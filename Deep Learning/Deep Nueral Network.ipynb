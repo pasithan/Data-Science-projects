{
  "nbformat": 4,
  "nbformat_minor": 0,
  "metadata": {
    "colab": {
      "name": "Lab5_DNN.ipynb",
      "provenance": [],
      "collapsed_sections": []
    },
    "kernelspec": {
      "display_name": "Python 3",
      "language": "python",
      "name": "python3"
    },
    "language_info": {
      "codemirror_mode": {
        "name": "ipython",
        "version": 3
      },
      "file_extension": ".py",
      "mimetype": "text/x-python",
      "name": "python",
      "nbconvert_exporter": "python",
      "pygments_lexer": "ipython3",
      "version": "3.7.4"
    }
  },
  "cells": [
    {
      "cell_type": "markdown",
      "metadata": {
        "colab_type": "text",
        "id": "U1wyiGyBbFQM"
      },
      "source": [
        "# Lab5 - Training Deep Neural Network\n",
        "- Pasit Hankijpongpan, 60070501036\n",
        "- Pisut Suntronkiti, 60070501037\n",
        "\n",
        "Name your file to 60_34xx_34xx.ipynb\n",
        "\n",
        "## Lab Instruction \n",
        "\n",
        "In this lab, you will learn to train a deep fully-connect neural network using Keras library with Tensorflow backend. We will use MNIST data which is a Keras build-in dataset. \n",
        "\n",
        "See http://yann.lecun.com/exdb/mnist\n",
        "\n",
        "**Note:**\n",
        "Before doing any machine learning/deep learning project, you have to think about the following thing:\n",
        "1. What is your problem and your data?\n",
        "- What type of problem do you want to solve? What is your data? What are you trying to predict? Does your data have enough information for your model to predict the expected output?\n",
        "\n",
        "2. How do you measure your success?\n",
        "- What do you mean by good model performance? How do you know that your model is ready to be deploy?\n",
        "- Accuracy? Precision and recall? profit gain? ROC AUC?\n",
        "\n",
        "3. What is your evaluation method?\n",
        "- Hold-out method? CV? Iterate CV?\n",
        "\n",
        "4. How to preprocess your data before fed into a model?\n",
        "\n",
        "5. What is your baseline? What is a model structure? how does your last layer look like? What is your loss function? What is your optimization function? \n",
        "\n",
        "6. Develop a overfit model to figure out how big a model you need by <br>\n",
        "6.1 Add more layer<br>\n",
        "6.2 Make layer bigger<br>\n",
        "6.3 Train more epochs<br>\n",
        "\n",
        "7. Tune your model to balance the model performance between underfit and overfit (optimization vs generalization)\n",
        "\n",
        "\n",
        "\n",
        "**Exploding Gradients :**\n",
        "\n",
        "exploding gradients can result in an unstable network that at best cannot learn from the training data and at worst results in NaN weight values that can no longer be updated.\n",
        "\n",
        "Ref : : https://machinelearningmastery.com/exploding-gradients-in-neural-networks/?fbclid=IwAR1DOg3pD0RSaxpHMZEEtIqxeCDMsvwkf-OxMb7HL5eK7_qLc4uLNEYcJus\n",
        "\n",
        "\n",
        "\n",
        "First, import all important library to this project."
      ]
    },
    {
      "cell_type": "code",
      "metadata": {
        "colab_type": "code",
        "id": "2gEZyZNEbFQN",
        "colab": {}
      },
      "source": [
        "import pandas as pd\n",
        "import numpy as np\n",
        "import matplotlib.pyplot as plt\n",
        "from sklearn.metrics import classification_report"
      ],
      "execution_count": null,
      "outputs": []
    },
    {
      "cell_type": "markdown",
      "metadata": {
        "colab_type": "text",
        "id": "jMwbMSsUbFQR"
      },
      "source": [
        "### 1. Load MNIST data"
      ]
    },
    {
      "cell_type": "code",
      "metadata": {
        "colab_type": "code",
        "id": "DGVpr05_bFQS",
        "colab": {
          "base_uri": "https://localhost:8080/",
          "height": 51
        },
        "outputId": "4a7f350d-d219-4a0f-d2b9-6efa2b1d49d1"
      },
      "source": [
        "from keras.datasets import mnist\n",
        "\n",
        "### Load data ###\n",
        "(train_images, train_labels), (test_images, test_labels) = mnist.load_data()\n",
        "#################"
      ],
      "execution_count": null,
      "outputs": [
        {
          "output_type": "stream",
          "text": [
            "Downloading data from https://storage.googleapis.com/tensorflow/tf-keras-datasets/mnist.npz\n",
            "11493376/11490434 [==============================] - 0s 0us/step\n"
          ],
          "name": "stdout"
        }
      ]
    },
    {
      "cell_type": "markdown",
      "metadata": {
        "colab_type": "text",
        "id": "qMnCLh53bFQW"
      },
      "source": [
        "Learn more about the data. For example:\n",
        "- The distribution of a target class. \n",
        "- The characteristic of the input data. How does it looklike? \n",
        "- etc."
      ]
    },
    {
      "cell_type": "code",
      "metadata": {
        "colab_type": "code",
        "id": "J_zHHa9qbFQY",
        "colab": {
          "base_uri": "https://localhost:8080/",
          "height": 350
        },
        "outputId": "bb62d714-4858-4806-fee6-393d978312ae"
      },
      "source": [
        "# array shape\n",
        "print(\"train image shape:\",train_images.shape)\n",
        "print(\"test image shape:\",test_images.shape)\n",
        "print(\"train label shape:\",train_labels.shape)\n",
        "print(\"test label shape:\",test_labels.shape)\n",
        "\n",
        "# imshow\n",
        "plt.imshow(train_images[0], cmap=plt.cm.binary)"
      ],
      "execution_count": null,
      "outputs": [
        {
          "output_type": "stream",
          "text": [
            "train image shape: (60000, 28, 28)\n",
            "test image shape: (10000, 28, 28)\n",
            "train label shape: (60000,)\n",
            "test label shape: (10000,)\n"
          ],
          "name": "stdout"
        },
        {
          "output_type": "execute_result",
          "data": {
            "text/plain": [
              "<matplotlib.image.AxesImage at 0x7f9ea8436cf8>"
            ]
          },
          "metadata": {
            "tags": []
          },
          "execution_count": 3
        },
        {
          "output_type": "display_data",
          "data": {
            "image/png": "[encoded data removed]",
            "text/plain": [
              "<Figure size 432x288 with 1 Axes>"
            ]
          },
          "metadata": {
            "tags": [],
            "needs_background": "light"
          }
        }
      ]
    },
    {
      "cell_type": "code",
      "metadata": {
        "id": "cVebaVlnYigS",
        "colab_type": "code",
        "colab": {
          "base_uri": "https://localhost:8080/",
          "height": 335
        },
        "outputId": "f7ec02d3-2a70-4599-9059-71b4728c5ba8"
      },
      "source": [
        "# label distribution\n",
        "plt.hist(train_labels)"
      ],
      "execution_count": null,
      "outputs": [
        {
          "output_type": "execute_result",
          "data": {
            "text/plain": [
              "(array([5923., 6742., 5958., 6131., 5842., 5421., 5918., 6265., 5851.,\n",
              "        5949.]),\n",
              " array([0. , 0.9, 1.8, 2.7, 3.6, 4.5, 5.4, 6.3, 7.2, 8.1, 9. ]),\n",
              " <a list of 10 Patch objects>)"
            ]
          },
          "metadata": {
            "tags": []
          },
          "execution_count": 4
        },
        {
          "output_type": "display_data",
          "data": {
            "image/png": "[encoded data removed]",
            "text/plain": [
              "<Figure size 432x288 with 1 Axes>"
            ]
          },
          "metadata": {
            "tags": [],
            "needs_background": "light"
          }
        }
      ]
    },
    {
      "cell_type": "markdown",
      "metadata": {
        "colab_type": "text",
        "id": "b1YkEJb1bFQb"
      },
      "source": [
        "### 2. Preprocess a data"
      ]
    },
    {
      "cell_type": "code",
      "metadata": {
        "colab_type": "code",
        "id": "fGAIf_5mbFQc",
        "colab": {}
      },
      "source": [
        "# scale data\n",
        "train_images = train_images.reshape(60000,28*28) # Reshape\n",
        "train_images = train_images.astype('float32')/255 # Normalize\n",
        "\n",
        "test_images = test_images.reshape(10000,28*28) # Reshape\n",
        "test_images = test_images.astype('float32')/255 # Normalize"
      ],
      "execution_count": null,
      "outputs": []
    },
    {
      "cell_type": "code",
      "metadata": {
        "id": "meHrG_Qbzv1h",
        "colab_type": "code",
        "colab": {}
      },
      "source": [
        "from keras.utils import to_categorical\n",
        "\n",
        "# change to category\n",
        "train_labels = to_categorical(train_labels)\n",
        "test_labels = to_categorical(test_labels)\n"
      ],
      "execution_count": null,
      "outputs": []
    },
    {
      "cell_type": "markdown",
      "metadata": {
        "colab_type": "text",
        "id": "borgvpZnbFQf"
      },
      "source": [
        "### 3. Build a model \n",
        "Using `Sequential()`, build a five-fully connected layer with 128 neurons each, *elu* as an activation function, and *he_initialier* as a weight initialier function. \n",
        "The output is a probability of each target class *softmax* as an activation function. We will use *Adam optimizer* with the *cross-entropy loss function*."
      ]
    },
    {
      "cell_type": "code",
      "metadata": {
        "colab_type": "code",
        "id": "1UQHj70jbFQg",
        "colab": {}
      },
      "source": [
        "from keras import layers, models, initializers\n",
        "\n",
        "nn = models.Sequential()\n",
        "nn.add(layers.Dense(128, activation='elu', kernel_initializer=initializers.he_uniform(), bias_initializer=initializers.Zeros(), input_shape=(28*28,)))\n",
        "nn.add(layers.Dense(128, activation='elu', kernel_initializer=initializers.he_uniform(), bias_initializer=initializers.Zeros()))\n",
        "nn.add(layers.Dense(128, activation='elu', kernel_initializer=initializers.he_uniform(), bias_initializer=initializers.Zeros()))\n",
        "nn.add(layers.Dense(128, activation='elu', kernel_initializer=initializers.he_uniform(), bias_initializer=initializers.Zeros()))\n",
        "nn.add(layers.Dense(128, activation='elu', kernel_initializer=initializers.he_uniform(), bias_initializer=initializers.Zeros()))\n",
        "nn.add(layers.Dense(10, activation='softmax', kernel_initializer=initializers.he_uniform(), bias_initializer=initializers.Zeros()))"
      ],
      "execution_count": null,
      "outputs": []
    },
    {
      "cell_type": "code",
      "metadata": {
        "id": "SCod5SSDifA9",
        "colab_type": "code",
        "colab": {}
      },
      "source": [
        "nn.compile(optimizer='adam', loss='categorical_crossentropy', metrics=['accuracy'])"
      ],
      "execution_count": null,
      "outputs": []
    },
    {
      "cell_type": "code",
      "metadata": {
        "id": "R2XdpBqhkmkr",
        "colab_type": "code",
        "colab": {
          "base_uri": "https://localhost:8080/",
          "height": 364
        },
        "outputId": "d163dc28-be8f-4ee2-9ceb-981e7130844d"
      },
      "source": [
        "nn.summary()"
      ],
      "execution_count": null,
      "outputs": [
        {
          "output_type": "stream",
          "text": [
            "Model: \"sequential_1\"\n",
            "_________________________________________________________________\n",
            "Layer (type)                 Output Shape              Param #   \n",
            "=================================================================\n",
            "dense_6 (Dense)              (None, 128)               100480    \n",
            "_________________________________________________________________\n",
            "dense_7 (Dense)              (None, 128)               16512     \n",
            "_________________________________________________________________\n",
            "dense_8 (Dense)              (None, 128)               16512     \n",
            "_________________________________________________________________\n",
            "dense_9 (Dense)              (None, 128)               16512     \n",
            "_________________________________________________________________\n",
            "dense_10 (Dense)             (None, 128)               16512     \n",
            "_________________________________________________________________\n",
            "dense_11 (Dense)             (None, 10)                1290      \n",
            "=================================================================\n",
            "Total params: 167,818\n",
            "Trainable params: 167,818\n",
            "Non-trainable params: 0\n",
            "_________________________________________________________________\n"
          ],
          "name": "stdout"
        }
      ]
    },
    {
      "cell_type": "markdown",
      "metadata": {
        "colab_type": "text",
        "id": "sXlzipA9bFQj"
      },
      "source": [
        "### 4. Train the model\n",
        "\n",
        "We will train a total of 10 epoch and a batch size of 128. \n",
        "\n",
        "To prevent an information leak to test set, which casue an overfit, we will split the data to train set, test set, and validation set. Doing so, we will split the training data into 90% train set and 10% validation set.\n",
        "\n",
        "Since keras `validation_split` argument split the last 10% of data to be validation set, the target class may not be equally distributed in validation set. Thus, we have to use `train_test_split`  from sklearn to split the data into train set and validation set. \n",
        "\n",
        "Hint: Use parameter `stratify = y` in `train_test_split()`\n",
        "See http://scikit-learn.org/stable/modules/generated/sklearn.model_selection.train_test_split.html"
      ]
    },
    {
      "cell_type": "code",
      "metadata": {
        "colab_type": "code",
        "id": "N62JfVhZbFQl",
        "colab": {}
      },
      "source": [
        "from sklearn.model_selection import train_test_split\n",
        "# from sklearn.model_selection import KFold\n",
        "\n",
        "### Split data ###\n",
        "# Split validation set using train_test_split\n",
        "image_train, image_validation, label_train, label_validation = train_test_split(train_images, train_labels, shuffle=True, test_size=0.1)\n",
        "\n",
        "\n",
        "# Split validation set using K-Fold\n",
        "# kf = KFold(n_splits=10, shuffle=True)\n",
        "# train_kf = []\n",
        "# train_label_kf = []\n",
        "# validation_kf = []\n",
        "# validation_label_kf = []\n",
        "# for train_index, validation_index in kf.split(train_images):\n",
        "#   # split train set\n",
        "#   train_temp = train_images[train_index]\n",
        "#   train_label_temp = train_labels[train_index]\n",
        "#   train_kf.append(train_temp)\n",
        "#   train_label_kf.append(train_label_temp)\n",
        "#   # split validation set\n",
        "#   validation_temp = train_images[validation_index]\n",
        "#   validation_label_temp = train_labels[train_index]\n",
        "#   validation_kf.append(validation_temp)\n",
        "#   validation_label_kf.append(validation_label_temp)\n",
        "\n",
        "##################"
      ],
      "execution_count": null,
      "outputs": []
    },
    {
      "cell_type": "code",
      "metadata": {
        "colab_type": "code",
        "id": "dD9ViZ2WbFQn",
        "colab": {
          "base_uri": "https://localhost:8080/",
          "height": 364
        },
        "outputId": "fe04a548-f8af-4f1a-cffa-3459b4686b17"
      },
      "source": [
        "### Fit the model ###\n",
        "history = nn.fit(image_train, label_train, epochs=10, batch_size=128, validation_data=(image_validation, label_validation))\n",
        "#####################"
      ],
      "execution_count": null,
      "outputs": [
        {
          "output_type": "stream",
          "text": [
            "Epoch 1/10\n",
            "422/422 [==============================] - 3s 7ms/step - loss: 0.2637 - accuracy: 0.9176 - val_loss: 0.1503 - val_accuracy: 0.9523\n",
            "Epoch 2/10\n",
            "422/422 [==============================] - 3s 6ms/step - loss: 0.1182 - accuracy: 0.9629 - val_loss: 0.1149 - val_accuracy: 0.9662\n",
            "Epoch 3/10\n",
            "422/422 [==============================] - 3s 6ms/step - loss: 0.0861 - accuracy: 0.9730 - val_loss: 0.0881 - val_accuracy: 0.9727\n",
            "Epoch 4/10\n",
            "422/422 [==============================] - 3s 6ms/step - loss: 0.0660 - accuracy: 0.9781 - val_loss: 0.0993 - val_accuracy: 0.9708\n",
            "Epoch 5/10\n",
            "422/422 [==============================] - 3s 7ms/step - loss: 0.0552 - accuracy: 0.9816 - val_loss: 0.0882 - val_accuracy: 0.9763\n",
            "Epoch 6/10\n",
            "422/422 [==============================] - 3s 6ms/step - loss: 0.0469 - accuracy: 0.9846 - val_loss: 0.0996 - val_accuracy: 0.9715\n",
            "Epoch 7/10\n",
            "422/422 [==============================] - 3s 6ms/step - loss: 0.0393 - accuracy: 0.9872 - val_loss: 0.1202 - val_accuracy: 0.9712\n",
            "Epoch 8/10\n",
            "422/422 [==============================] - 3s 6ms/step - loss: 0.0380 - accuracy: 0.9877 - val_loss: 0.0976 - val_accuracy: 0.9725\n",
            "Epoch 9/10\n",
            "422/422 [==============================] - 3s 7ms/step - loss: 0.0329 - accuracy: 0.9893 - val_loss: 0.1078 - val_accuracy: 0.9752\n",
            "Epoch 10/10\n",
            "422/422 [==============================] - 3s 6ms/step - loss: 0.0293 - accuracy: 0.9904 - val_loss: 0.1112 - val_accuracy: 0.9732\n"
          ],
          "name": "stdout"
        }
      ]
    },
    {
      "cell_type": "markdown",
      "metadata": {
        "colab_type": "text",
        "id": "xqVNtsgBbFQq"
      },
      "source": [
        "\n",
        "### 5. Evalute the model\n",
        "\n",
        "Think of the metric that you want to evaluate/measure the performance of your model that can answer the following questions:\n",
        "- The model is overfit or underfit.\n",
        "- At which epoch/iteration that it converge or the model become overfit.\n",
        "- How does the model perform on each data class. What is an overall performace of your model?"
      ]
    },
    {
      "cell_type": "code",
      "metadata": {
        "colab_type": "code",
        "id": "3-SD-f9XbFQr",
        "colab": {
          "base_uri": "https://localhost:8080/",
          "height": 69
        },
        "outputId": "2e5e9b2b-1859-467b-eb0e-55d831ed5449"
      },
      "source": [
        "### Evaluate the model ###\n",
        "test_loss,test_acc = nn.evaluate(test_images, test_labels)\n",
        "print('Test Loss: %s\\nTest Accuracy: %s' % (test_loss,test_acc))\n",
        "##########################"
      ],
      "execution_count": null,
      "outputs": [
        {
          "output_type": "stream",
          "text": [
            "313/313 [==============================] - 0s 1ms/step - loss: 0.1110 - accuracy: 0.9723\n",
            "Test Loss: 0.11097680777311325\n",
            "Test Accuracy: 0.9722999930381775\n"
          ],
          "name": "stdout"
        }
      ]
    },
    {
      "cell_type": "code",
      "metadata": {
        "id": "sMKARzPc5HW9",
        "colab_type": "code",
        "colab": {
          "base_uri": "https://localhost:8080/",
          "height": 329
        },
        "outputId": "d33267dc-8329-4300-ca6b-87818652f5c1"
      },
      "source": [
        "temp = nn.predict(test_images)\n",
        "nn_pred = np.zeros_like(temp)\n",
        "nn_pred[np.arange(len(temp)), temp.argmax(1)] = 1\n",
        "\n",
        "print(classification_report(test_labels, nn_pred))"
      ],
      "execution_count": null,
      "outputs": [
        {
          "output_type": "stream",
          "text": [
            "              precision    recall  f1-score   support\n",
            "\n",
            "           0       0.96      0.99      0.98       980\n",
            "           1       0.98      0.99      0.99      1135\n",
            "           2       0.97      0.97      0.97      1032\n",
            "           3       0.96      0.97      0.97      1010\n",
            "           4       0.98      0.97      0.97       982\n",
            "           5       0.97      0.96      0.96       892\n",
            "           6       0.97      0.98      0.98       958\n",
            "           7       0.98      0.96      0.97      1028\n",
            "           8       0.98      0.96      0.97       974\n",
            "           9       0.96      0.96      0.96      1009\n",
            "\n",
            "   micro avg       0.97      0.97      0.97     10000\n",
            "   macro avg       0.97      0.97      0.97     10000\n",
            "weighted avg       0.97      0.97      0.97     10000\n",
            " samples avg       0.97      0.97      0.97     10000\n",
            "\n"
          ],
          "name": "stdout"
        }
      ]
    },
    {
      "cell_type": "code",
      "metadata": {
        "id": "R3zb8Wg41ZG9",
        "colab_type": "code",
        "colab": {
          "base_uri": "https://localhost:8080/",
          "height": 279
        },
        "outputId": "ec3a0cb1-df7c-43b5-9929-dca2f4c66e92"
      },
      "source": [
        "epoch = len(history.history['loss'])\n",
        "line1, = plt.plot(range(1,epoch+1), history.history['loss'], label=\"traning data\")\n",
        "line2, = plt.plot(range(1,epoch+1), history.history['val_loss'], label=\"validation data\")\n",
        "plt.legend(handles=[line1,line2])\n",
        "plt.xlabel('epochs')\n",
        "plt.ylabel('errors')\n",
        "plt.show()"
      ],
      "execution_count": null,
      "outputs": [
        {
          "output_type": "display_data",
          "data": {
            "image/png": "[encoded data removed]",
            "text/plain": [
              "<Figure size 432x288 with 1 Axes>"
            ]
          },
          "metadata": {
            "tags": [],
            "needs_background": "light"
          }
        }
      ]
    },
    {
      "cell_type": "markdown",
      "metadata": {
        "colab_type": "text",
        "id": "MlI3w3wqbFQu"
      },
      "source": [
        "### 6. Tune the model \n",
        "\n",
        "Try to tune your model by: \n",
        "1. Try Increasing epoch and see how it affect your model? Does the result better or it get overfit?\n",
        "2. Apply an early stop. What is the result do you get? (See https://chrisalbon.com/deep_learning/keras/neural_network_early_stopping/)\n",
        "4. Try adding regularizer l1 or l2 (or simutaneus l1, l2) to your model. How does it affect your model?\n",
        "5. Try to add dropout (any dropout rate) with every layer. How does it affect your model? Does it help reduce overfit?\n",
        "\n",
        "*Discuss the result from these step in the discssion section*\n",
        "\n",
        "After try above step, **try to achive the highest precision** by tuning the model using what you had aleady learn in the class.\n",
        "You can try to change the structure of the model by increase or decrease the layer and neuron node in each layer. (Use only fully-connect layer, don't use other type of layer yet!)\n",
        "\n",
        "**The current highest precision of MNIST model is around 99.8%** ( Just try as must as possible, don't worry if you don't achieve this number of precision.)\n",
        "\n",
        "**Write  down what are you doing and why in each tuning step**"
      ]
    },
    {
      "cell_type": "markdown",
      "metadata": {
        "id": "7_8MEU9EAchZ",
        "colab_type": "text"
      },
      "source": [
        "**1. Increase epoch**"
      ]
    },
    {
      "cell_type": "code",
      "metadata": {
        "colab_type": "code",
        "id": "8SIXC6klbFQu",
        "colab": {}
      },
      "source": [
        "# create new nn\n",
        "nn2 = models.Sequential()\n",
        "nn2.add(layers.Dense(128, activation='elu', kernel_initializer=initializers.he_uniform(), bias_initializer=initializers.Zeros(), input_shape=(28*28,)))\n",
        "nn2.add(layers.Dense(128, activation='elu', kernel_initializer=initializers.he_uniform(), bias_initializer=initializers.Zeros()))\n",
        "nn2.add(layers.Dense(128, activation='elu', kernel_initializer=initializers.he_uniform(), bias_initializer=initializers.Zeros()))\n",
        "nn2.add(layers.Dense(128, activation='elu', kernel_initializer=initializers.he_uniform(), bias_initializer=initializers.Zeros()))\n",
        "nn2.add(layers.Dense(128, activation='elu', kernel_initializer=initializers.he_uniform(), bias_initializer=initializers.Zeros()))\n",
        "nn2.add(layers.Dense(10, activation='softmax', kernel_initializer=initializers.he_uniform(), bias_initializer=initializers.Zeros()))"
      ],
      "execution_count": null,
      "outputs": []
    },
    {
      "cell_type": "code",
      "metadata": {
        "id": "9JanZzCfvOYe",
        "colab_type": "code",
        "colab": {}
      },
      "source": [
        "nn2.compile(optimizer='adam', loss='categorical_crossentropy', metrics=['accuracy'])"
      ],
      "execution_count": null,
      "outputs": []
    },
    {
      "cell_type": "code",
      "metadata": {
        "id": "TguVp0gkvQ5S",
        "colab_type": "code",
        "colab": {
          "base_uri": "https://localhost:8080/",
          "height": 1000
        },
        "outputId": "87b74d5f-69ef-42c4-ea67-cfd6b320c054"
      },
      "source": [
        "history2 = nn2.fit(image_train, label_train, epochs=50, batch_size=128, validation_data=(image_validation, label_validation))"
      ],
      "execution_count": null,
      "outputs": [
        {
          "output_type": "stream",
          "text": [
            "Epoch 1/50\n",
            "422/422 [==============================] - 3s 7ms/step - loss: 0.2576 - accuracy: 0.9225 - val_loss: 0.1283 - val_accuracy: 0.9593\n",
            "Epoch 2/50\n",
            "422/422 [==============================] - 3s 6ms/step - loss: 0.1198 - accuracy: 0.9625 - val_loss: 0.0968 - val_accuracy: 0.9710\n",
            "Epoch 3/50\n",
            "422/422 [==============================] - 3s 6ms/step - loss: 0.0885 - accuracy: 0.9711 - val_loss: 0.1036 - val_accuracy: 0.9688\n",
            "Epoch 4/50\n",
            "422/422 [==============================] - 3s 6ms/step - loss: 0.0655 - accuracy: 0.9788 - val_loss: 0.0786 - val_accuracy: 0.9762\n",
            "Epoch 5/50\n",
            "422/422 [==============================] - 3s 6ms/step - loss: 0.0539 - accuracy: 0.9824 - val_loss: 0.1075 - val_accuracy: 0.9718\n",
            "Epoch 6/50\n",
            "422/422 [==============================] - 3s 6ms/step - loss: 0.0504 - accuracy: 0.9827 - val_loss: 0.0965 - val_accuracy: 0.9732\n",
            "Epoch 7/50\n",
            "422/422 [==============================] - 3s 6ms/step - loss: 0.0411 - accuracy: 0.9859 - val_loss: 0.0954 - val_accuracy: 0.9738\n",
            "Epoch 8/50\n",
            "422/422 [==============================] - 3s 6ms/step - loss: 0.0361 - accuracy: 0.9878 - val_loss: 0.0985 - val_accuracy: 0.9753\n",
            "Epoch 9/50\n",
            "422/422 [==============================] - 3s 6ms/step - loss: 0.0315 - accuracy: 0.9895 - val_loss: 0.1010 - val_accuracy: 0.9733\n",
            "Epoch 10/50\n",
            "422/422 [==============================] - 3s 6ms/step - loss: 0.0271 - accuracy: 0.9910 - val_loss: 0.0859 - val_accuracy: 0.9793\n",
            "Epoch 11/50\n",
            "422/422 [==============================] - 3s 7ms/step - loss: 0.0284 - accuracy: 0.9903 - val_loss: 0.1227 - val_accuracy: 0.9695\n",
            "Epoch 12/50\n",
            "422/422 [==============================] - 3s 7ms/step - loss: 0.0258 - accuracy: 0.9915 - val_loss: 0.1022 - val_accuracy: 0.9775\n",
            "Epoch 13/50\n",
            "422/422 [==============================] - 3s 6ms/step - loss: 0.0211 - accuracy: 0.9928 - val_loss: 0.1169 - val_accuracy: 0.9758\n",
            "Epoch 14/50\n",
            "422/422 [==============================] - 3s 6ms/step - loss: 0.0254 - accuracy: 0.9912 - val_loss: 0.0991 - val_accuracy: 0.9758\n",
            "Epoch 15/50\n",
            "422/422 [==============================] - 3s 6ms/step - loss: 0.0170 - accuracy: 0.9945 - val_loss: 0.0981 - val_accuracy: 0.9788\n",
            "Epoch 16/50\n",
            "422/422 [==============================] - 3s 6ms/step - loss: 0.0230 - accuracy: 0.9925 - val_loss: 0.1045 - val_accuracy: 0.9763\n",
            "Epoch 17/50\n",
            "422/422 [==============================] - 3s 6ms/step - loss: 0.0136 - accuracy: 0.9958 - val_loss: 0.1131 - val_accuracy: 0.9772\n",
            "Epoch 18/50\n",
            "422/422 [==============================] - 3s 6ms/step - loss: 0.0192 - accuracy: 0.9936 - val_loss: 0.1075 - val_accuracy: 0.9765\n",
            "Epoch 19/50\n",
            "422/422 [==============================] - 3s 6ms/step - loss: 0.0167 - accuracy: 0.9944 - val_loss: 0.1347 - val_accuracy: 0.9750\n",
            "Epoch 20/50\n",
            "422/422 [==============================] - 3s 6ms/step - loss: 0.0170 - accuracy: 0.9947 - val_loss: 0.1164 - val_accuracy: 0.9795\n",
            "Epoch 21/50\n",
            "422/422 [==============================] - 3s 6ms/step - loss: 0.0120 - accuracy: 0.9961 - val_loss: 0.1420 - val_accuracy: 0.9753\n",
            "Epoch 22/50\n",
            "422/422 [==============================] - 3s 7ms/step - loss: 0.0153 - accuracy: 0.9950 - val_loss: 0.1333 - val_accuracy: 0.9753\n",
            "Epoch 23/50\n",
            "422/422 [==============================] - 3s 6ms/step - loss: 0.0200 - accuracy: 0.9938 - val_loss: 0.1285 - val_accuracy: 0.9770\n",
            "Epoch 24/50\n",
            "422/422 [==============================] - 3s 6ms/step - loss: 0.0171 - accuracy: 0.9946 - val_loss: 0.1543 - val_accuracy: 0.9767\n",
            "Epoch 25/50\n",
            "422/422 [==============================] - 3s 6ms/step - loss: 0.0110 - accuracy: 0.9968 - val_loss: 0.1303 - val_accuracy: 0.9763\n",
            "Epoch 26/50\n",
            "422/422 [==============================] - 3s 6ms/step - loss: 0.0136 - accuracy: 0.9959 - val_loss: 0.1278 - val_accuracy: 0.9790\n",
            "Epoch 27/50\n",
            "422/422 [==============================] - 3s 6ms/step - loss: 0.0136 - accuracy: 0.9956 - val_loss: 0.1240 - val_accuracy: 0.9780\n",
            "Epoch 28/50\n",
            "422/422 [==============================] - 3s 6ms/step - loss: 0.0161 - accuracy: 0.9952 - val_loss: 0.1410 - val_accuracy: 0.9767\n",
            "Epoch 29/50\n",
            "422/422 [==============================] - 3s 6ms/step - loss: 0.0113 - accuracy: 0.9965 - val_loss: 0.1191 - val_accuracy: 0.9782\n",
            "Epoch 30/50\n",
            "422/422 [==============================] - 3s 6ms/step - loss: 0.0118 - accuracy: 0.9965 - val_loss: 0.1093 - val_accuracy: 0.9808\n",
            "Epoch 31/50\n",
            "422/422 [==============================] - 3s 6ms/step - loss: 0.0075 - accuracy: 0.9976 - val_loss: 0.1353 - val_accuracy: 0.9783\n",
            "Epoch 32/50\n",
            "422/422 [==============================] - 3s 6ms/step - loss: 0.0158 - accuracy: 0.9951 - val_loss: 0.1229 - val_accuracy: 0.9790\n",
            "Epoch 33/50\n",
            "422/422 [==============================] - 3s 6ms/step - loss: 0.0070 - accuracy: 0.9978 - val_loss: 0.1270 - val_accuracy: 0.9802\n",
            "Epoch 34/50\n",
            "422/422 [==============================] - 3s 6ms/step - loss: 0.0165 - accuracy: 0.9951 - val_loss: 0.1644 - val_accuracy: 0.9748\n",
            "Epoch 35/50\n",
            "422/422 [==============================] - 3s 6ms/step - loss: 0.0179 - accuracy: 0.9946 - val_loss: 0.1368 - val_accuracy: 0.9775\n",
            "Epoch 36/50\n",
            "422/422 [==============================] - 3s 6ms/step - loss: 0.0098 - accuracy: 0.9970 - val_loss: 0.1287 - val_accuracy: 0.9803\n",
            "Epoch 37/50\n",
            "422/422 [==============================] - 3s 6ms/step - loss: 0.0068 - accuracy: 0.9977 - val_loss: 0.1294 - val_accuracy: 0.9803\n",
            "Epoch 38/50\n",
            "422/422 [==============================] - 3s 6ms/step - loss: 0.0158 - accuracy: 0.9954 - val_loss: 0.1325 - val_accuracy: 0.9788\n",
            "Epoch 39/50\n",
            "422/422 [==============================] - 3s 6ms/step - loss: 0.0051 - accuracy: 0.9987 - val_loss: 0.1134 - val_accuracy: 0.9830\n",
            "Epoch 40/50\n",
            "422/422 [==============================] - 3s 6ms/step - loss: 0.0120 - accuracy: 0.9963 - val_loss: 0.1400 - val_accuracy: 0.9788\n",
            "Epoch 41/50\n",
            "422/422 [==============================] - 3s 6ms/step - loss: 0.0106 - accuracy: 0.9971 - val_loss: 0.1354 - val_accuracy: 0.9772\n",
            "Epoch 42/50\n",
            "422/422 [==============================] - 3s 6ms/step - loss: 0.0121 - accuracy: 0.9963 - val_loss: 0.1034 - val_accuracy: 0.9822\n",
            "Epoch 43/50\n",
            "422/422 [==============================] - 3s 6ms/step - loss: 0.0098 - accuracy: 0.9969 - val_loss: 0.1382 - val_accuracy: 0.9785\n",
            "Epoch 44/50\n",
            "422/422 [==============================] - 3s 7ms/step - loss: 0.0064 - accuracy: 0.9981 - val_loss: 0.1404 - val_accuracy: 0.9805\n",
            "Epoch 45/50\n",
            "422/422 [==============================] - 3s 7ms/step - loss: 0.0110 - accuracy: 0.9970 - val_loss: 0.1299 - val_accuracy: 0.9798\n",
            "Epoch 46/50\n",
            "422/422 [==============================] - 3s 6ms/step - loss: 0.0123 - accuracy: 0.9966 - val_loss: 0.1393 - val_accuracy: 0.9793\n",
            "Epoch 47/50\n",
            "422/422 [==============================] - 3s 6ms/step - loss: 0.0099 - accuracy: 0.9968 - val_loss: 0.1337 - val_accuracy: 0.9800\n",
            "Epoch 48/50\n",
            "422/422 [==============================] - 3s 6ms/step - loss: 0.0081 - accuracy: 0.9977 - val_loss: 0.1335 - val_accuracy: 0.9800\n",
            "Epoch 49/50\n",
            "422/422 [==============================] - 3s 7ms/step - loss: 0.0107 - accuracy: 0.9969 - val_loss: 0.1130 - val_accuracy: 0.9807\n",
            "Epoch 50/50\n",
            "422/422 [==============================] - 3s 8ms/step - loss: 0.0048 - accuracy: 0.9985 - val_loss: 0.1391 - val_accuracy: 0.9808\n"
          ],
          "name": "stdout"
        }
      ]
    },
    {
      "cell_type": "code",
      "metadata": {
        "id": "xNGn2iYiwihN",
        "colab_type": "code",
        "colab": {
          "base_uri": "https://localhost:8080/",
          "height": 69
        },
        "outputId": "867c50a1-4a10-4458-9770-0462e8c9f4eb"
      },
      "source": [
        "### Evaluate the model ###\n",
        "test2_loss, test2_acc = nn2.evaluate(test_images, test_labels)\n",
        "print('Test Loss: %s\\nTest Accuracy: %s' % (test2_loss,test2_acc))\n",
        "##########################"
      ],
      "execution_count": null,
      "outputs": [
        {
          "output_type": "stream",
          "text": [
            "313/313 [==============================] - 1s 2ms/step - loss: 0.1555 - accuracy: 0.9792\n",
            "Test Loss: 0.1555444598197937\n",
            "Test Accuracy: 0.979200005531311\n"
          ],
          "name": "stdout"
        }
      ]
    },
    {
      "cell_type": "code",
      "metadata": {
        "id": "ZYW2UHxvy3VK",
        "colab_type": "code",
        "colab": {
          "base_uri": "https://localhost:8080/",
          "height": 279
        },
        "outputId": "bf9201c7-aebb-4da3-ab78-898cd2e049bb"
      },
      "source": [
        "epoch = len(history2.history['loss'])\n",
        "line1, = plt.plot(range(1,epoch+1), history2.history['loss'], label=\"traning data\")\n",
        "line2, = plt.plot(range(1,epoch+1), history2.history['val_loss'], label=\"validation data\")\n",
        "plt.legend(handles=[line1,line2])\n",
        "plt.xlabel('epochs')\n",
        "plt.ylabel('errors')\n",
        "plt.show()"
      ],
      "execution_count": null,
      "outputs": [
        {
          "output_type": "display_data",
          "data": {
            "image/png": "[encoded data removed]",
            "text/plain": [
              "<Figure size 432x288 with 1 Axes>"
            ]
          },
          "metadata": {
            "tags": [],
            "needs_background": "light"
          }
        }
      ]
    },
    {
      "cell_type": "markdown",
      "metadata": {
        "id": "IC_5W66x-ZNq",
        "colab_type": "text"
      },
      "source": [
        "**2. Implement early stop**"
      ]
    },
    {
      "cell_type": "code",
      "metadata": {
        "id": "54pXCmQN-YXV",
        "colab_type": "code",
        "colab": {}
      },
      "source": [
        "from keras.callbacks import EarlyStopping, ModelCheckpoint\n",
        "\n",
        "# setup early stopping\n",
        "callbacks = EarlyStopping(monitor='val_loss', patience=2)"
      ],
      "execution_count": null,
      "outputs": []
    },
    {
      "cell_type": "code",
      "metadata": {
        "id": "P9cipEGX_bM4",
        "colab_type": "code",
        "colab": {}
      },
      "source": [
        "# create new nn\n",
        "nn3 = models.Sequential()\n",
        "nn3.add(layers.Dense(128, activation='elu', kernel_initializer=initializers.he_uniform(), bias_initializer=initializers.Zeros(), input_shape=(28*28,)))\n",
        "nn3.add(layers.Dense(128, activation='elu', kernel_initializer=initializers.he_uniform(), bias_initializer=initializers.Zeros()))\n",
        "nn3.add(layers.Dense(128, activation='elu', kernel_initializer=initializers.he_uniform(), bias_initializer=initializers.Zeros()))\n",
        "nn3.add(layers.Dense(128, activation='elu', kernel_initializer=initializers.he_uniform(), bias_initializer=initializers.Zeros()))\n",
        "nn3.add(layers.Dense(128, activation='elu', kernel_initializer=initializers.he_uniform(), bias_initializer=initializers.Zeros()))\n",
        "nn3.add(layers.Dense(10, activation='softmax', kernel_initializer=initializers.he_uniform(), bias_initializer=initializers.Zeros()))"
      ],
      "execution_count": null,
      "outputs": []
    },
    {
      "cell_type": "code",
      "metadata": {
        "id": "pn7fZDhx_L23",
        "colab_type": "code",
        "colab": {}
      },
      "source": [
        "nn3.compile(optimizer='adam', loss='categorical_crossentropy', metrics=['accuracy'])"
      ],
      "execution_count": null,
      "outputs": []
    },
    {
      "cell_type": "code",
      "metadata": {
        "id": "rm8Ycadl_iII",
        "colab_type": "code",
        "colab": {
          "base_uri": "https://localhost:8080/",
          "height": 295
        },
        "outputId": "955ff841-55ae-4a41-949b-55775525728c"
      },
      "source": [
        "history3 = nn3.fit(image_train, label_train, epochs=50, batch_size=128, callbacks=callbacks, validation_data=(image_validation, label_validation))"
      ],
      "execution_count": null,
      "outputs": [
        {
          "output_type": "stream",
          "text": [
            "Epoch 1/50\n",
            "422/422 [==============================] - 3s 7ms/step - loss: 0.2610 - accuracy: 0.9193 - val_loss: 0.1225 - val_accuracy: 0.9617\n",
            "Epoch 2/50\n",
            "422/422 [==============================] - 3s 6ms/step - loss: 0.1163 - accuracy: 0.9636 - val_loss: 0.0965 - val_accuracy: 0.9708\n",
            "Epoch 3/50\n",
            "422/422 [==============================] - 3s 6ms/step - loss: 0.0832 - accuracy: 0.9734 - val_loss: 0.1027 - val_accuracy: 0.9685\n",
            "Epoch 4/50\n",
            "422/422 [==============================] - 3s 7ms/step - loss: 0.0660 - accuracy: 0.9788 - val_loss: 0.0930 - val_accuracy: 0.9733\n",
            "Epoch 5/50\n",
            "422/422 [==============================] - 3s 7ms/step - loss: 0.0553 - accuracy: 0.9815 - val_loss: 0.0875 - val_accuracy: 0.9777\n",
            "Epoch 6/50\n",
            "422/422 [==============================] - 3s 7ms/step - loss: 0.0461 - accuracy: 0.9848 - val_loss: 0.0867 - val_accuracy: 0.9758\n",
            "Epoch 7/50\n",
            "422/422 [==============================] - 3s 7ms/step - loss: 0.0415 - accuracy: 0.9863 - val_loss: 0.1070 - val_accuracy: 0.9710\n",
            "Epoch 8/50\n",
            "422/422 [==============================] - 3s 6ms/step - loss: 0.0333 - accuracy: 0.9892 - val_loss: 0.1083 - val_accuracy: 0.9733\n"
          ],
          "name": "stdout"
        }
      ]
    },
    {
      "cell_type": "code",
      "metadata": {
        "id": "CpgZ0SlgIFOk",
        "colab_type": "code",
        "colab": {
          "base_uri": "https://localhost:8080/",
          "height": 69
        },
        "outputId": "79caf9f7-302f-437c-db31-3592ffa3a6cc"
      },
      "source": [
        "### Evaluate the model ###\n",
        "test3_loss, test3_acc = nn3.evaluate(test_images, test_labels)\n",
        "print('Test Loss: %s\\nTest Accuracy: %s' % (test3_loss,test3_acc))\n",
        "##########################"
      ],
      "execution_count": null,
      "outputs": [
        {
          "output_type": "stream",
          "text": [
            "313/313 [==============================] - 0s 2ms/step - loss: 0.1071 - accuracy: 0.9710\n",
            "Test Loss: 0.10707863420248032\n",
            "Test Accuracy: 0.9710000157356262\n"
          ],
          "name": "stdout"
        }
      ]
    },
    {
      "cell_type": "code",
      "metadata": {
        "id": "FguJrv8lIEKI",
        "colab_type": "code",
        "colab": {
          "base_uri": "https://localhost:8080/",
          "height": 279
        },
        "outputId": "9a2c9984-1908-4dc5-8dd9-df78340823b6"
      },
      "source": [
        "epoch = len(history3.history['loss'])\n",
        "line1, = plt.plot(range(1,epoch+1), history3.history['loss'], label=\"traning data\")\n",
        "line2, = plt.plot(range(1,epoch+1), history3.history['val_loss'], label=\"validation data\")\n",
        "plt.legend(handles=[line1,line2])\n",
        "plt.xlabel('epochs')\n",
        "plt.ylabel('errors')\n",
        "plt.show()"
      ],
      "execution_count": null,
      "outputs": [
        {
          "output_type": "display_data",
          "data": {
            "image/png": "[encoded data removed]",
            "text/plain": [
              "<Figure size 432x288 with 1 Axes>"
            ]
          },
          "metadata": {
            "tags": [],
            "needs_background": "light"
          }
        }
      ]
    },
    {
      "cell_type": "markdown",
      "metadata": {
        "id": "IrodS_JUAO1w",
        "colab_type": "text"
      },
      "source": [
        "**3. Adding regularizer**"
      ]
    },
    {
      "cell_type": "code",
      "metadata": {
        "id": "VGdFl-OJDNXs",
        "colab_type": "code",
        "colab": {}
      },
      "source": [
        "from tensorflow.keras import regularizers"
      ],
      "execution_count": null,
      "outputs": []
    },
    {
      "cell_type": "code",
      "metadata": {
        "id": "jkrhtmI8Aa8V",
        "colab_type": "code",
        "colab": {}
      },
      "source": [
        "# create new nn\n",
        "nn4 = models.Sequential()\n",
        "nn4.add(layers.Dense(128, activation='elu', kernel_initializer=initializers.he_uniform(), bias_initializer=initializers.Zeros(), \n",
        "                     kernel_regularizer=regularizers.l1_l2(l1=1e-5, l2=1e-5),\n",
        "                     bias_regularizer=regularizers.l1_l2(l1=1e-5, l2=1e-5),\n",
        "                     activity_regularizer=regularizers.l1_l2(l1=1e-5, l2=1e-5), \n",
        "                     input_shape=(28*28,)))\n",
        "nn4.add(layers.Dense(128, activation='elu', kernel_initializer=initializers.he_uniform(), bias_initializer=initializers.Zeros(), \n",
        "                     kernel_regularizer=regularizers.l1_l2(l1=1e-5, l2=1e-5),\n",
        "                     bias_regularizer=regularizers.l1_l2(l1=1e-5, l2=1e-5),\n",
        "                     activity_regularizer=regularizers.l1_l2(l1=1e-5, l2=1e-5)))\n",
        "nn4.add(layers.Dense(128, activation='elu', kernel_initializer=initializers.he_uniform(), bias_initializer=initializers.Zeros(), \n",
        "                     kernel_regularizer=regularizers.l1_l2(l1=1e-5, l2=1e-5),\n",
        "                     bias_regularizer=regularizers.l1_l2(l1=1e-5, l2=1e-5),\n",
        "                     activity_regularizer=regularizers.l1_l2(l1=1e-5, l2=1e-5)))\n",
        "nn4.add(layers.Dense(128, activation='elu', kernel_initializer=initializers.he_uniform(), bias_initializer=initializers.Zeros(), \n",
        "                     kernel_regularizer=regularizers.l1_l2(l1=1e-5, l2=1e-5),\n",
        "                     bias_regularizer=regularizers.l1_l2(l1=1e-5, l2=1e-5),\n",
        "                     activity_regularizer=regularizers.l1_l2(l1=1e-5, l2=1e-5)))\n",
        "nn4.add(layers.Dense(128, activation='elu', kernel_initializer=initializers.he_uniform(), bias_initializer=initializers.Zeros(), \n",
        "                     kernel_regularizer=regularizers.l1_l2(l1=1e-5, l2=1e-5),\n",
        "                     bias_regularizer=regularizers.l1_l2(l1=1e-5, l2=1e-5),\n",
        "                     activity_regularizer=regularizers.l1_l2(l1=1e-5, l2=1e-5)))\n",
        "nn4.add(layers.Dense(10, activation='softmax', kernel_initializer=initializers.he_uniform(), bias_initializer=initializers.Zeros(), \n",
        "                     kernel_regularizer=regularizers.l1_l2(l1=1e-5, l2=1e-5),\n",
        "                     bias_regularizer=regularizers.l1_l2(l1=1e-5, l2=1e-5),\n",
        "                     activity_regularizer=regularizers.l1_l2(l1=1e-5, l2=1e-5)))"
      ],
      "execution_count": null,
      "outputs": []
    },
    {
      "cell_type": "code",
      "metadata": {
        "id": "jOtY2Ft0DDN3",
        "colab_type": "code",
        "colab": {}
      },
      "source": [
        "nn4.compile(optimizer='adam', loss='categorical_crossentropy', metrics=['accuracy'])"
      ],
      "execution_count": null,
      "outputs": []
    },
    {
      "cell_type": "code",
      "metadata": {
        "id": "7dN-n2mzDFB1",
        "colab_type": "code",
        "colab": {
          "base_uri": "https://localhost:8080/",
          "height": 1000
        },
        "outputId": "7ad992ad-3645-4ffe-def0-114880acdadf"
      },
      "source": [
        "history4 = nn4.fit(image_train, label_train, epochs=50, batch_size=128, validation_data=(image_validation, label_validation))"
      ],
      "execution_count": null,
      "outputs": [
        {
          "output_type": "stream",
          "text": [
            "Epoch 1/50\n",
            "422/422 [==============================] - 4s 10ms/step - loss: 0.3826 - accuracy: 0.9219 - val_loss: 0.2633 - val_accuracy: 0.9612\n",
            "Epoch 2/50\n",
            "422/422 [==============================] - 4s 8ms/step - loss: 0.2433 - accuracy: 0.9639 - val_loss: 0.2393 - val_accuracy: 0.9633\n",
            "Epoch 3/50\n",
            "422/422 [==============================] - 4s 9ms/step - loss: 0.2094 - accuracy: 0.9731 - val_loss: 0.2177 - val_accuracy: 0.9717\n",
            "Epoch 4/50\n",
            "422/422 [==============================] - 4s 9ms/step - loss: 0.1925 - accuracy: 0.9789 - val_loss: 0.2082 - val_accuracy: 0.9747\n",
            "Epoch 5/50\n",
            "422/422 [==============================] - 4s 9ms/step - loss: 0.1778 - accuracy: 0.9816 - val_loss: 0.1986 - val_accuracy: 0.9768\n",
            "Epoch 6/50\n",
            "422/422 [==============================] - 5s 11ms/step - loss: 0.1695 - accuracy: 0.9843 - val_loss: 0.2055 - val_accuracy: 0.9762\n",
            "Epoch 7/50\n",
            "422/422 [==============================] - 4s 10ms/step - loss: 0.1650 - accuracy: 0.9846 - val_loss: 0.1921 - val_accuracy: 0.9785\n",
            "Epoch 8/50\n",
            "422/422 [==============================] - 5s 11ms/step - loss: 0.1570 - accuracy: 0.9875 - val_loss: 0.1881 - val_accuracy: 0.9763\n",
            "Epoch 9/50\n",
            "422/422 [==============================] - 5s 11ms/step - loss: 0.1514 - accuracy: 0.9880 - val_loss: 0.2114 - val_accuracy: 0.9728\n",
            "Epoch 10/50\n",
            "422/422 [==============================] - 5s 11ms/step - loss: 0.1487 - accuracy: 0.9894 - val_loss: 0.1945 - val_accuracy: 0.9782\n",
            "Epoch 11/50\n",
            "422/422 [==============================] - 4s 9ms/step - loss: 0.1443 - accuracy: 0.9900 - val_loss: 0.1890 - val_accuracy: 0.9783\n",
            "Epoch 12/50\n",
            "422/422 [==============================] - 4s 9ms/step - loss: 0.1415 - accuracy: 0.9898 - val_loss: 0.1892 - val_accuracy: 0.9795\n",
            "Epoch 13/50\n",
            "422/422 [==============================] - 4s 8ms/step - loss: 0.1414 - accuracy: 0.9893 - val_loss: 0.2055 - val_accuracy: 0.9745\n",
            "Epoch 14/50\n",
            "422/422 [==============================] - 3s 8ms/step - loss: 0.1393 - accuracy: 0.9896 - val_loss: 0.1854 - val_accuracy: 0.9768\n",
            "Epoch 15/50\n",
            "422/422 [==============================] - 4s 8ms/step - loss: 0.1356 - accuracy: 0.9908 - val_loss: 0.1894 - val_accuracy: 0.9767\n",
            "Epoch 16/50\n",
            "422/422 [==============================] - 3s 8ms/step - loss: 0.1260 - accuracy: 0.9940 - val_loss: 0.1817 - val_accuracy: 0.9788\n",
            "Epoch 17/50\n",
            "422/422 [==============================] - 4s 8ms/step - loss: 0.1292 - accuracy: 0.9920 - val_loss: 0.1987 - val_accuracy: 0.9732\n",
            "Epoch 18/50\n",
            "422/422 [==============================] - 4s 9ms/step - loss: 0.1255 - accuracy: 0.9925 - val_loss: 0.1891 - val_accuracy: 0.9763\n",
            "Epoch 19/50\n",
            "422/422 [==============================] - 4s 9ms/step - loss: 0.1271 - accuracy: 0.9920 - val_loss: 0.1918 - val_accuracy: 0.9768\n",
            "Epoch 20/50\n",
            "422/422 [==============================] - 4s 9ms/step - loss: 0.1268 - accuracy: 0.9916 - val_loss: 0.1846 - val_accuracy: 0.9783\n",
            "Epoch 21/50\n",
            "422/422 [==============================] - 4s 8ms/step - loss: 0.1166 - accuracy: 0.9950 - val_loss: 0.1683 - val_accuracy: 0.9810\n",
            "Epoch 22/50\n",
            "422/422 [==============================] - 4s 8ms/step - loss: 0.1169 - accuracy: 0.9939 - val_loss: 0.1833 - val_accuracy: 0.9783\n",
            "Epoch 23/50\n",
            "422/422 [==============================] - 4s 8ms/step - loss: 0.1151 - accuracy: 0.9935 - val_loss: 0.1985 - val_accuracy: 0.9745\n",
            "Epoch 24/50\n",
            "422/422 [==============================] - 4s 9ms/step - loss: 0.1221 - accuracy: 0.9917 - val_loss: 0.1786 - val_accuracy: 0.9783\n",
            "Epoch 25/50\n",
            "422/422 [==============================] - 4s 8ms/step - loss: 0.1169 - accuracy: 0.9932 - val_loss: 0.1732 - val_accuracy: 0.9808\n",
            "Epoch 26/50\n",
            "422/422 [==============================] - 4s 8ms/step - loss: 0.1085 - accuracy: 0.9948 - val_loss: 0.1873 - val_accuracy: 0.9768\n",
            "Epoch 27/50\n",
            "422/422 [==============================] - 4s 8ms/step - loss: 0.1104 - accuracy: 0.9940 - val_loss: 0.1658 - val_accuracy: 0.9812\n",
            "Epoch 28/50\n",
            "422/422 [==============================] - 4s 9ms/step - loss: 0.1097 - accuracy: 0.9936 - val_loss: 0.1690 - val_accuracy: 0.9767\n",
            "Epoch 29/50\n",
            "422/422 [==============================] - 4s 9ms/step - loss: 0.1125 - accuracy: 0.9926 - val_loss: 0.1621 - val_accuracy: 0.9793\n",
            "Epoch 30/50\n",
            "422/422 [==============================] - 4s 9ms/step - loss: 0.1040 - accuracy: 0.9948 - val_loss: 0.1594 - val_accuracy: 0.9797\n",
            "Epoch 31/50\n",
            "422/422 [==============================] - 4s 8ms/step - loss: 0.1018 - accuracy: 0.9948 - val_loss: 0.1664 - val_accuracy: 0.9792\n",
            "Epoch 32/50\n",
            "422/422 [==============================] - 4s 9ms/step - loss: 0.1024 - accuracy: 0.9944 - val_loss: 0.1760 - val_accuracy: 0.9752\n",
            "Epoch 33/50\n",
            "422/422 [==============================] - 4s 8ms/step - loss: 0.1023 - accuracy: 0.9942 - val_loss: 0.1726 - val_accuracy: 0.9777\n",
            "Epoch 34/50\n",
            "422/422 [==============================] - 4s 9ms/step - loss: 0.1076 - accuracy: 0.9922 - val_loss: 0.1710 - val_accuracy: 0.9780\n",
            "Epoch 35/50\n",
            "422/422 [==============================] - 4s 8ms/step - loss: 0.0991 - accuracy: 0.9945 - val_loss: 0.1668 - val_accuracy: 0.9795\n",
            "Epoch 36/50\n",
            "422/422 [==============================] - 4s 9ms/step - loss: 0.0933 - accuracy: 0.9959 - val_loss: 0.1567 - val_accuracy: 0.9798\n",
            "Epoch 37/50\n",
            "422/422 [==============================] - 4s 9ms/step - loss: 0.0992 - accuracy: 0.9937 - val_loss: 0.1656 - val_accuracy: 0.9783\n",
            "Epoch 38/50\n",
            "422/422 [==============================] - 4s 8ms/step - loss: 0.1000 - accuracy: 0.9938 - val_loss: 0.1657 - val_accuracy: 0.9795\n",
            "Epoch 39/50\n",
            "422/422 [==============================] - 4s 8ms/step - loss: 0.0899 - accuracy: 0.9963 - val_loss: 0.1488 - val_accuracy: 0.9803\n",
            "Epoch 40/50\n",
            "422/422 [==============================] - 4s 8ms/step - loss: 0.0925 - accuracy: 0.9946 - val_loss: 0.1620 - val_accuracy: 0.9782\n",
            "Epoch 41/50\n",
            "422/422 [==============================] - 4s 8ms/step - loss: 0.0941 - accuracy: 0.9945 - val_loss: 0.1571 - val_accuracy: 0.9800\n",
            "Epoch 42/50\n",
            "422/422 [==============================] - 4s 8ms/step - loss: 0.0904 - accuracy: 0.9954 - val_loss: 0.1374 - val_accuracy: 0.9837\n",
            "Epoch 43/50\n",
            "422/422 [==============================] - 4s 8ms/step - loss: 0.0856 - accuracy: 0.9961 - val_loss: 0.1586 - val_accuracy: 0.9790\n",
            "Epoch 44/50\n",
            "422/422 [==============================] - 4s 8ms/step - loss: 0.0946 - accuracy: 0.9930 - val_loss: 0.1455 - val_accuracy: 0.9815\n",
            "Epoch 45/50\n",
            "422/422 [==============================] - 4s 9ms/step - loss: 0.0916 - accuracy: 0.9947 - val_loss: 0.1465 - val_accuracy: 0.9805\n",
            "Epoch 46/50\n",
            "422/422 [==============================] - 4s 8ms/step - loss: 0.0842 - accuracy: 0.9961 - val_loss: 0.1567 - val_accuracy: 0.9785\n",
            "Epoch 47/50\n",
            "422/422 [==============================] - 4s 8ms/step - loss: 0.0829 - accuracy: 0.9963 - val_loss: 0.1625 - val_accuracy: 0.9770\n",
            "Epoch 48/50\n",
            "422/422 [==============================] - 4s 8ms/step - loss: 0.0928 - accuracy: 0.9932 - val_loss: 0.1462 - val_accuracy: 0.9802\n",
            "Epoch 49/50\n",
            "422/422 [==============================] - 4s 8ms/step - loss: 0.0809 - accuracy: 0.9967 - val_loss: 0.1401 - val_accuracy: 0.9825\n",
            "Epoch 50/50\n",
            "422/422 [==============================] - 3s 8ms/step - loss: 0.0822 - accuracy: 0.9955 - val_loss: 0.1563 - val_accuracy: 0.9787\n"
          ],
          "name": "stdout"
        }
      ]
    },
    {
      "cell_type": "code",
      "metadata": {
        "id": "NGc0QdbcIA_F",
        "colab_type": "code",
        "colab": {
          "base_uri": "https://localhost:8080/",
          "height": 69
        },
        "outputId": "eea1c185-1436-4bda-f64f-1219c987a74b"
      },
      "source": [
        "### Evaluate the model ###\n",
        "test4_loss, test4_acc = nn4.evaluate(test_images, test_labels)\n",
        "print('Test Loss: %s\\nTest Accuracy: %s' % (test4_loss,test4_acc))\n",
        "##########################"
      ],
      "execution_count": null,
      "outputs": [
        {
          "output_type": "stream",
          "text": [
            "313/313 [==============================] - 1s 2ms/step - loss: 0.1494 - accuracy: 0.9791\n",
            "Test Loss: 0.14941371977329254\n",
            "Test Accuracy: 0.9790999889373779\n"
          ],
          "name": "stdout"
        }
      ]
    },
    {
      "cell_type": "code",
      "metadata": {
        "id": "2CGcFz3-H8Oq",
        "colab_type": "code",
        "colab": {
          "base_uri": "https://localhost:8080/",
          "height": 279
        },
        "outputId": "9fcba615-d6d0-40dc-f982-3998e9779598"
      },
      "source": [
        "epoch = len(history4.history['loss'])\n",
        "line1, = plt.plot(range(1,epoch+1), history4.history['loss'], label=\"traning data\")\n",
        "line2, = plt.plot(range(1,epoch+1), history4.history['val_loss'], label=\"validation data\")\n",
        "plt.legend(handles=[line1,line2])\n",
        "plt.xlabel('epochs')\n",
        "plt.ylabel('errors')\n",
        "plt.show()"
      ],
      "execution_count": null,
      "outputs": [
        {
          "output_type": "display_data",
          "data": {
            "image/png": "[encoded data removed]",
            "text/plain": [
              "<Figure size 432x288 with 1 Axes>"
            ]
          },
          "metadata": {
            "tags": [],
            "needs_background": "light"
          }
        }
      ]
    },
    {
      "cell_type": "markdown",
      "metadata": {
        "id": "399DX5SKJUJH",
        "colab_type": "text"
      },
      "source": [
        "**4. dropout**"
      ]
    },
    {
      "cell_type": "code",
      "metadata": {
        "id": "o5WFGKNiLq0H",
        "colab_type": "code",
        "colab": {}
      },
      "source": [
        "from keras.layers import Dropout"
      ],
      "execution_count": null,
      "outputs": []
    },
    {
      "cell_type": "code",
      "metadata": {
        "id": "tXWGWCKVJcey",
        "colab_type": "code",
        "colab": {}
      },
      "source": [
        "# create new nn\n",
        "nn5 = models.Sequential()\n",
        "nn5.add(Dropout(.2, input_shape=(28*28,)))\n",
        "nn5.add(layers.Dense(128, activation='elu', kernel_initializer=initializers.he_uniform(), bias_initializer=initializers.Zeros(), input_shape=(28*28,)))\n",
        "nn5.add(Dropout(.2))\n",
        "nn5.add(layers.Dense(128, activation='elu', kernel_initializer=initializers.he_uniform(), bias_initializer=initializers.Zeros()))\n",
        "nn5.add(Dropout(.2))\n",
        "nn5.add(layers.Dense(128, activation='elu', kernel_initializer=initializers.he_uniform(), bias_initializer=initializers.Zeros()))\n",
        "nn5.add(Dropout(.2))\n",
        "nn5.add(layers.Dense(128, activation='elu', kernel_initializer=initializers.he_uniform(), bias_initializer=initializers.Zeros()))\n",
        "nn5.add(Dropout(.2))\n",
        "nn5.add(layers.Dense(128, activation='elu', kernel_initializer=initializers.he_uniform(), bias_initializer=initializers.Zeros()))\n",
        "nn5.add(Dropout(.2))\n",
        "nn5.add(layers.Dense(10, activation='softmax', kernel_initializer=initializers.he_uniform(), bias_initializer=initializers.Zeros()))"
      ],
      "execution_count": null,
      "outputs": []
    },
    {
      "cell_type": "code",
      "metadata": {
        "id": "_dErIBp2JmKe",
        "colab_type": "code",
        "colab": {}
      },
      "source": [
        "nn5.compile(optimizer='adam', loss='categorical_crossentropy', metrics=['accuracy'])"
      ],
      "execution_count": null,
      "outputs": []
    },
    {
      "cell_type": "code",
      "metadata": {
        "id": "ETT-rWsaJpSr",
        "colab_type": "code",
        "colab": {
          "base_uri": "https://localhost:8080/",
          "height": 1000
        },
        "outputId": "0ef93d29-cf7a-4056-a72b-0dab62938411"
      },
      "source": [
        "history5 = nn5.fit(image_train, label_train, epochs=50, batch_size=128, validation_data=(image_validation, label_validation))"
      ],
      "execution_count": null,
      "outputs": [
        {
          "output_type": "stream",
          "text": [
            "Epoch 1/50\n",
            "422/422 [==============================] - 4s 9ms/step - loss: 0.6258 - accuracy: 0.8034 - val_loss: 0.2234 - val_accuracy: 0.9312\n",
            "Epoch 2/50\n",
            "422/422 [==============================] - 4s 8ms/step - loss: 0.3418 - accuracy: 0.8951 - val_loss: 0.1805 - val_accuracy: 0.9460\n",
            "Epoch 3/50\n",
            "422/422 [==============================] - 4s 9ms/step - loss: 0.2778 - accuracy: 0.9148 - val_loss: 0.1396 - val_accuracy: 0.9570\n",
            "Epoch 4/50\n",
            "422/422 [==============================] - 4s 9ms/step - loss: 0.2454 - accuracy: 0.9254 - val_loss: 0.1272 - val_accuracy: 0.9635\n",
            "Epoch 5/50\n",
            "422/422 [==============================] - 4s 8ms/step - loss: 0.2162 - accuracy: 0.9332 - val_loss: 0.1128 - val_accuracy: 0.9658\n",
            "Epoch 6/50\n",
            "422/422 [==============================] - 4s 8ms/step - loss: 0.1941 - accuracy: 0.9401 - val_loss: 0.1057 - val_accuracy: 0.9685\n",
            "Epoch 7/50\n",
            "422/422 [==============================] - 4s 9ms/step - loss: 0.1877 - accuracy: 0.9436 - val_loss: 0.1085 - val_accuracy: 0.9678\n",
            "Epoch 8/50\n",
            "422/422 [==============================] - 4s 9ms/step - loss: 0.1738 - accuracy: 0.9472 - val_loss: 0.0939 - val_accuracy: 0.9740\n",
            "Epoch 9/50\n",
            "422/422 [==============================] - 4s 8ms/step - loss: 0.1645 - accuracy: 0.9497 - val_loss: 0.0995 - val_accuracy: 0.9712\n",
            "Epoch 10/50\n",
            "422/422 [==============================] - 4s 9ms/step - loss: 0.1531 - accuracy: 0.9532 - val_loss: 0.0873 - val_accuracy: 0.9740\n",
            "Epoch 11/50\n",
            "422/422 [==============================] - 4s 9ms/step - loss: 0.1466 - accuracy: 0.9547 - val_loss: 0.0886 - val_accuracy: 0.9732\n",
            "Epoch 12/50\n",
            "422/422 [==============================] - 4s 9ms/step - loss: 0.1403 - accuracy: 0.9568 - val_loss: 0.0860 - val_accuracy: 0.9747\n",
            "Epoch 13/50\n",
            "422/422 [==============================] - 4s 9ms/step - loss: 0.1338 - accuracy: 0.9593 - val_loss: 0.0821 - val_accuracy: 0.9745\n",
            "Epoch 14/50\n",
            "422/422 [==============================] - 4s 9ms/step - loss: 0.1285 - accuracy: 0.9605 - val_loss: 0.0766 - val_accuracy: 0.9782\n",
            "Epoch 15/50\n",
            "422/422 [==============================] - 4s 9ms/step - loss: 0.1270 - accuracy: 0.9607 - val_loss: 0.0748 - val_accuracy: 0.9772\n",
            "Epoch 16/50\n",
            "422/422 [==============================] - 4s 9ms/step - loss: 0.1217 - accuracy: 0.9632 - val_loss: 0.0767 - val_accuracy: 0.9778\n",
            "Epoch 17/50\n",
            "422/422 [==============================] - 4s 9ms/step - loss: 0.1190 - accuracy: 0.9639 - val_loss: 0.0749 - val_accuracy: 0.9792\n",
            "Epoch 18/50\n",
            "422/422 [==============================] - 4s 9ms/step - loss: 0.1144 - accuracy: 0.9646 - val_loss: 0.0707 - val_accuracy: 0.9790\n",
            "Epoch 19/50\n",
            "422/422 [==============================] - 4s 9ms/step - loss: 0.1127 - accuracy: 0.9656 - val_loss: 0.0743 - val_accuracy: 0.9800\n",
            "Epoch 20/50\n",
            "422/422 [==============================] - 4s 9ms/step - loss: 0.1082 - accuracy: 0.9670 - val_loss: 0.0704 - val_accuracy: 0.9808\n",
            "Epoch 21/50\n",
            "422/422 [==============================] - 4s 9ms/step - loss: 0.1026 - accuracy: 0.9691 - val_loss: 0.0775 - val_accuracy: 0.9782\n",
            "Epoch 22/50\n",
            "422/422 [==============================] - 4s 9ms/step - loss: 0.1022 - accuracy: 0.9692 - val_loss: 0.0711 - val_accuracy: 0.9802\n",
            "Epoch 23/50\n",
            "422/422 [==============================] - 4s 9ms/step - loss: 0.1013 - accuracy: 0.9704 - val_loss: 0.0668 - val_accuracy: 0.9798\n",
            "Epoch 24/50\n",
            "422/422 [==============================] - 4s 9ms/step - loss: 0.0994 - accuracy: 0.9702 - val_loss: 0.0612 - val_accuracy: 0.9813\n",
            "Epoch 25/50\n",
            "422/422 [==============================] - 4s 9ms/step - loss: 0.0983 - accuracy: 0.9701 - val_loss: 0.0707 - val_accuracy: 0.9800\n",
            "Epoch 26/50\n",
            "422/422 [==============================] - 4s 10ms/step - loss: 0.0943 - accuracy: 0.9710 - val_loss: 0.0644 - val_accuracy: 0.9825\n",
            "Epoch 27/50\n",
            "422/422 [==============================] - 4s 9ms/step - loss: 0.0933 - accuracy: 0.9724 - val_loss: 0.0706 - val_accuracy: 0.9808\n",
            "Epoch 28/50\n",
            "422/422 [==============================] - 4s 9ms/step - loss: 0.0904 - accuracy: 0.9731 - val_loss: 0.0701 - val_accuracy: 0.9795\n",
            "Epoch 29/50\n",
            "422/422 [==============================] - 4s 8ms/step - loss: 0.0864 - accuracy: 0.9734 - val_loss: 0.0684 - val_accuracy: 0.9815\n",
            "Epoch 30/50\n",
            "422/422 [==============================] - 4s 8ms/step - loss: 0.0894 - accuracy: 0.9739 - val_loss: 0.0726 - val_accuracy: 0.9818\n",
            "Epoch 31/50\n",
            "422/422 [==============================] - 4s 8ms/step - loss: 0.0904 - accuracy: 0.9728 - val_loss: 0.0668 - val_accuracy: 0.9825\n",
            "Epoch 32/50\n",
            "422/422 [==============================] - 4s 9ms/step - loss: 0.0882 - accuracy: 0.9731 - val_loss: 0.0741 - val_accuracy: 0.9800\n",
            "Epoch 33/50\n",
            "422/422 [==============================] - 4s 8ms/step - loss: 0.0843 - accuracy: 0.9748 - val_loss: 0.0698 - val_accuracy: 0.9815\n",
            "Epoch 34/50\n",
            "422/422 [==============================] - 4s 8ms/step - loss: 0.0835 - accuracy: 0.9747 - val_loss: 0.0696 - val_accuracy: 0.9823\n",
            "Epoch 35/50\n",
            "422/422 [==============================] - 4s 9ms/step - loss: 0.0833 - accuracy: 0.9749 - val_loss: 0.0744 - val_accuracy: 0.9803\n",
            "Epoch 36/50\n",
            "422/422 [==============================] - 4s 9ms/step - loss: 0.0804 - accuracy: 0.9764 - val_loss: 0.0607 - val_accuracy: 0.9837\n",
            "Epoch 37/50\n",
            "422/422 [==============================] - 4s 9ms/step - loss: 0.0787 - accuracy: 0.9762 - val_loss: 0.0629 - val_accuracy: 0.9813\n",
            "Epoch 38/50\n",
            "422/422 [==============================] - 4s 9ms/step - loss: 0.0805 - accuracy: 0.9751 - val_loss: 0.0655 - val_accuracy: 0.9808\n",
            "Epoch 39/50\n",
            "422/422 [==============================] - 4s 8ms/step - loss: 0.0781 - accuracy: 0.9768 - val_loss: 0.0629 - val_accuracy: 0.9827\n",
            "Epoch 40/50\n",
            "422/422 [==============================] - 4s 9ms/step - loss: 0.0751 - accuracy: 0.9771 - val_loss: 0.0642 - val_accuracy: 0.9825\n",
            "Epoch 41/50\n",
            "422/422 [==============================] - 4s 8ms/step - loss: 0.0771 - accuracy: 0.9765 - val_loss: 0.0624 - val_accuracy: 0.9825\n",
            "Epoch 42/50\n",
            "422/422 [==============================] - 4s 8ms/step - loss: 0.0758 - accuracy: 0.9771 - val_loss: 0.0623 - val_accuracy: 0.9828\n",
            "Epoch 43/50\n",
            "422/422 [==============================] - 4s 9ms/step - loss: 0.0730 - accuracy: 0.9780 - val_loss: 0.0658 - val_accuracy: 0.9835\n",
            "Epoch 44/50\n",
            "422/422 [==============================] - 5s 11ms/step - loss: 0.0716 - accuracy: 0.9774 - val_loss: 0.0683 - val_accuracy: 0.9828\n",
            "Epoch 45/50\n",
            "422/422 [==============================] - 4s 10ms/step - loss: 0.0705 - accuracy: 0.9784 - val_loss: 0.0588 - val_accuracy: 0.9850\n",
            "Epoch 46/50\n",
            "422/422 [==============================] - 4s 9ms/step - loss: 0.0713 - accuracy: 0.9784 - val_loss: 0.0613 - val_accuracy: 0.9840\n",
            "Epoch 47/50\n",
            "422/422 [==============================] - 4s 8ms/step - loss: 0.0703 - accuracy: 0.9789 - val_loss: 0.0662 - val_accuracy: 0.9828\n",
            "Epoch 48/50\n",
            "422/422 [==============================] - 4s 8ms/step - loss: 0.0712 - accuracy: 0.9788 - val_loss: 0.0634 - val_accuracy: 0.9830\n",
            "Epoch 49/50\n",
            "422/422 [==============================] - 4s 8ms/step - loss: 0.0688 - accuracy: 0.9794 - val_loss: 0.0642 - val_accuracy: 0.9842\n",
            "Epoch 50/50\n",
            "422/422 [==============================] - 4s 8ms/step - loss: 0.0689 - accuracy: 0.9797 - val_loss: 0.0670 - val_accuracy: 0.9823\n"
          ],
          "name": "stdout"
        }
      ]
    },
    {
      "cell_type": "code",
      "metadata": {
        "id": "OgXmWDNAJ1hf",
        "colab_type": "code",
        "colab": {
          "base_uri": "https://localhost:8080/",
          "height": 69
        },
        "outputId": "fdbe748a-689a-4163-fa5c-913fd7998cf0"
      },
      "source": [
        "### Evaluate the model ###\n",
        "test5_loss, test5_acc = nn5.evaluate(test_images, test_labels)\n",
        "print('Test Loss: %s\\nTest Accuracy: %s' % (test5_loss,test5_acc))\n",
        "##########################"
      ],
      "execution_count": null,
      "outputs": [
        {
          "output_type": "stream",
          "text": [
            "313/313 [==============================] - 0s 1ms/step - loss: 0.0690 - accuracy: 0.9821\n",
            "Test Loss: 0.0690075159072876\n",
            "Test Accuracy: 0.9821000099182129\n"
          ],
          "name": "stdout"
        }
      ]
    },
    {
      "cell_type": "code",
      "metadata": {
        "id": "EiGMrihwJsLi",
        "colab_type": "code",
        "colab": {
          "base_uri": "https://localhost:8080/",
          "height": 279
        },
        "outputId": "1ef3a72c-37e2-4b1c-967d-0290f27336f2"
      },
      "source": [
        "epoch = len(history5.history['loss'])\n",
        "line1, = plt.plot(range(1,epoch+1), history5.history['loss'], label=\"traning data\")\n",
        "line2, = plt.plot(range(1,epoch+1), history5.history['val_loss'], label=\"validation data\")\n",
        "plt.legend(handles=[line1,line2])\n",
        "plt.xlabel('epochs')\n",
        "plt.ylabel('errors')\n",
        "plt.show()"
      ],
      "execution_count": null,
      "outputs": [
        {
          "output_type": "display_data",
          "data": {
            "image/png": "[encoded data removed]",
            "text/plain": [
              "<Figure size 432x288 with 1 Axes>"
            ]
          },
          "metadata": {
            "tags": [],
            "needs_background": "light"
          }
        }
      ]
    },
    {
      "cell_type": "markdown",
      "metadata": {
        "colab_type": "text",
        "id": "FfjMAXtPbFQx"
      },
      "source": [
        "### 7. Final Evaluation\n",
        "\n",
        "After you make sure that your model is good enough to be deploy in application, it is a time to evaluate your model with test set in order to test that your model is generalize well and not overfit to validation set."
      ]
    },
    {
      "cell_type": "code",
      "metadata": {
        "id": "Q5PJzWudTQbE",
        "colab_type": "code",
        "colab": {
          "base_uri": "https://localhost:8080/",
          "height": 202
        },
        "outputId": "2f37e078-b00f-4d0f-d8ec-910caf5c979e"
      },
      "source": [
        "# model1: 10 epochs\n",
        "# model2: 50 epochs\n",
        "# model3: 50 epochs with early stopping\n",
        "# model4: 50 epochs with l1 l2 regularizer\n",
        "# model5: 50 epochs with dropout\n",
        "\n",
        "summary_eval = pd.DataFrame([[test_loss, test_acc], [test2_loss, test2_acc], [test3_loss, test3_acc], [test4_loss, test4_acc], [test5_loss, test5_acc]], columns=['loss', 'accuracy'], index=['model1', 'model2', 'model3', 'model4', 'model5'])\n",
        "summary_eval"
      ],
      "execution_count": null,
      "outputs": [
        {
          "output_type": "execute_result",
          "data": {
            "text/html": [
              "<div>\n",
              "<style scoped>\n",
              "    .dataframe tbody tr th:only-of-type {\n",
              "        vertical-align: middle;\n",
              "    }\n",
              "\n",
              "    .dataframe tbody tr th {\n",
              "        vertical-align: top;\n",
              "    }\n",
              "\n",
              "    .dataframe thead th {\n",
              "        text-align: right;\n",
              "    }\n",
              "</style>\n",
              "<table border=\"1\" class=\"dataframe\">\n",
              "  <thead>\n",
              "    <tr style=\"text-align: right;\">\n",
              "      <th></th>\n",
              "      <th>loss</th>\n",
              "      <th>accuracy</th>\n",
              "    </tr>\n",
              "  </thead>\n",
              "  <tbody>\n",
              "    <tr>\n",
              "      <th>model1</th>\n",
              "      <td>0.110977</td>\n",
              "      <td>0.9723</td>\n",
              "    </tr>\n",
              "    <tr>\n",
              "      <th>model2</th>\n",
              "      <td>0.155544</td>\n",
              "      <td>0.9792</td>\n",
              "    </tr>\n",
              "    <tr>\n",
              "      <th>model3</th>\n",
              "      <td>0.107079</td>\n",
              "      <td>0.9710</td>\n",
              "    </tr>\n",
              "    <tr>\n",
              "      <th>model4</th>\n",
              "      <td>0.149414</td>\n",
              "      <td>0.9791</td>\n",
              "    </tr>\n",
              "    <tr>\n",
              "      <th>model5</th>\n",
              "      <td>0.069008</td>\n",
              "      <td>0.9821</td>\n",
              "    </tr>\n",
              "  </tbody>\n",
              "</table>\n",
              "</div>"
            ],
            "text/plain": [
              "            loss  accuracy\n",
              "model1  0.110977    0.9723\n",
              "model2  0.155544    0.9792\n",
              "model3  0.107079    0.9710\n",
              "model4  0.149414    0.9791\n",
              "model5  0.069008    0.9821"
            ]
          },
          "metadata": {
            "tags": []
          },
          "execution_count": 51
        }
      ]
    },
    {
      "cell_type": "code",
      "metadata": {
        "id": "Acblv764V0vu",
        "colab_type": "code",
        "colab": {
          "base_uri": "https://localhost:8080/",
          "height": 879
        },
        "outputId": "84cb76fa-b47a-4e13-99f9-724c5221cb4f"
      },
      "source": [
        "fig, ((ax1, ax2) , (ax3, ax4)) = plt.subplots(2, 2)\n",
        "fig.suptitle('50 epochs model comparison')\n",
        "fig.set_figheight(13)\n",
        "fig.set_figwidth(13)\n",
        "\n",
        "# model2: 50 epochs\n",
        "epoch = len(history2.history['loss'])\n",
        "line1, = ax1.plot(range(1,epoch+1), history2.history['loss'], label=\"traning data\")\n",
        "line2, = ax1.plot(range(1,epoch+1), history2.history['val_loss'], label=\"validation data\")\n",
        "ax1.legend(handles=[line1,line2])\n",
        "ax1.set_title('50 epochs')\n",
        "ax1.set_xlabel('epochs')\n",
        "ax1.set_ylabel('errors')\n",
        "\n",
        "# model3: 50 epochs with early stopping\n",
        "epoch = len(history3.history['loss'])\n",
        "line1, = ax2.plot(range(1,epoch+1), history3.history['loss'], label=\"traning data\")\n",
        "line2, = ax2.plot(range(1,epoch+1), history3.history['val_loss'], label=\"validation data\")\n",
        "ax2.legend(handles=[line1,line2])\n",
        "ax2.set_title('50 epochs with early stopping')\n",
        "ax2.set_xlabel('epochs')\n",
        "ax2.set_ylabel('errors')\n",
        "\n",
        "# model4: 50 epochs with l1 l2 regularizer\n",
        "epoch = len(history4.history['loss'])\n",
        "line1, = ax3.plot(range(1,epoch+1), history4.history['loss'], label=\"traning data\")\n",
        "line2, = ax3.plot(range(1,epoch+1), history4.history['val_loss'], label=\"validation data\")\n",
        "ax3.legend(handles=[line1,line2])\n",
        "ax3.set_title('50 epochs with l1, l2 regularizer')\n",
        "ax3.set_xlabel('epochs')\n",
        "ax3.set_ylabel('errors')\n",
        "\n",
        "# model5: 50 epochs with dropout\n",
        "epoch = len(history5.history['loss'])\n",
        "line1, = ax4.plot(range(1,epoch+1), history5.history['loss'], label=\"traning data\")\n",
        "line2, = ax4.plot(range(1,epoch+1), history5.history['val_loss'], label=\"validation data\")\n",
        "ax4.legend(handles=[line1,line2])\n",
        "ax4.set_title('50 epochs with dropout')\n",
        "ax4.set_xlabel('epochs')\n",
        "ax4.set_ylabel('errors')"
      ],
      "execution_count": null,
      "outputs": [
        {
          "output_type": "execute_result",
          "data": {
            "text/plain": [
              "Text(0, 0.5, 'errors')"
            ]
          },
          "metadata": {
            "tags": []
          },
          "execution_count": 52
        },
        {
          "output_type": "display_data",
          "data": {
            "image/png": "[encoded data removed]",
            "text/plain": [
              "<Figure size 936x936 with 4 Axes>"
            ]
          },
          "metadata": {
            "tags": [],
            "needs_background": "light"
          }
        }
      ]
    },
    {
      "cell_type": "markdown",
      "metadata": {
        "colab_type": "text",
        "id": "b-DR7_KWbFQ0"
      },
      "source": [
        "### Result & Discussion \n",
        "\n",
        "- Write down the key finding from this lab. Discuss what you had done, what do you get from the output or a result, and why (support your reason)"
      ]
    },
    {
      "cell_type": "markdown",
      "metadata": {
        "id": "mKgY7S8GixeD",
        "colab_type": "text"
      },
      "source": [
        "**Evaluation the model** <br>\n",
        "   From data and graph, the model is overfit. It is becoming  overfit at the 5th epoch. The accuracy score is 0.972 and the performance on each data class is shown below image.<br>\n",
        "   ![measurement_table.png](data:image/png;base64,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)\n",
        "\n"
      ]
    },
    {
      "cell_type": "markdown",
      "metadata": {
        "id": "jQDtTXnsl_vy",
        "colab_type": "text"
      },
      "source": [
        "**Tune the model** <br>\n",
        "1. **Increasing epoch** we have increased epoch for the model from 10 to 50 epochs in the *fit()* method. The result is still overfit, in another word, it is not better because of its more overfitting. The accuracy score is 0.979.\n",
        "2. **Implement early stopping** we defined *callback* as the early stopping function. The callback is set that if loss value of the model is not better (decreased) among 2 epoch, the traning process will be interupted.  The last epoch is 8th and the accuracy score is 0.971\n",
        "3. **Adding regularizer** we add simultanous L1 and L2 for kernel regularizer, bias regularizer and activity regularizer by L1 = 10e-5 and L2 = 10e-5 to every hidden-layer in the model. The accuracy score is 0.979.\n",
        "4. **Applying dropout** we add dropout with probability *p* = 0.2 to every hidden-layer. The accuracy score is 0.982."
      ]
    },
    {
      "cell_type": "markdown",
      "metadata": {
        "id": "8C_lQiNNyVgH",
        "colab_type": "text"
      },
      "source": [
        "**Play with your model**<br>\n",
        "The model always predicts zero class as result, so it is not correct. That may cause from pixel-detailed line of input which be not like training data, they are more sharper than the training one."
      ]
    },
    {
      "cell_type": "markdown",
      "metadata": {
        "colab_type": "text",
        "id": "fW6u4OEmbFQ5"
      },
      "source": [
        "### 8. Play with your model\n",
        "\n",
        "1. Use any kind of drawing application ( For example, Paint or Adobe Photoshop ), create a 28x28 pixel (any resolution) with black (#000000) background and white (#FFFFFF) paint. \n",
        "2. Draw 3 any distinct single digit number of a range from 0 - 9. Then save the image (PNG)\n",
        "\n",
        "for local pc :\n",
        "3. Install open-cv (See https://pypi.org/project/opencv-python) by \n",
        "> `pip install opencv-python` <br/> or conda (See https://anaconda.org/conda-forge/opencv)\n",
        "\n",
        "for colab use:\n",
        "3. ```import cv2 as cv```\n",
        "4. Load your image to this IPython using ```imread()``` function\n",
        "5. Preprocess as what you did during the development stage.\n",
        "6. Feed your image to your best model.\n",
        "\n",
        "What class do your model predict? Does it correct? If not, why do it still get negative result since your model get more than 90% accuracy?"
      ]
    },
    {
      "cell_type": "code",
      "metadata": {
        "colab_type": "code",
        "id": "AAze8MBMbFQ6",
        "colab": {
          "base_uri": "https://localhost:8080/",
          "height": 87
        },
        "outputId": "51758751-e2a7-41bb-de53-d0ab8a6c27e9"
      },
      "source": [
        "import cv2 as cv\n",
        "import numpy as np\n",
        "\n",
        "# import images\n",
        "one_img = cv.imread('one.png', 0)\n",
        "two_img = cv.imread('two.png', 0)\n",
        "three_img = cv.imread('three.png', 0)\n",
        "seven_img = cv.imread('seven.png', 0)\n",
        "test_img = np.array([one_img, two_img, three_img, seven_img])\n",
        "# plt.imshow(test_img[0], cmap=plt.cm.binary)\n",
        "\n",
        "# image labels\n",
        "test_label = np.array([[0, 1, 0, 0, 0, 0, 0, 0, 0, 0],\n",
        "                       [0, 0, 1, 0, 0, 0, 0, 0, 0, 0], \n",
        "                       [0, 0, 0, 1, 0, 0, 0, 0, 0, 0], \n",
        "                       [0, 0, 0, 0, 0, 0, 0, 1, 0, 0]])\n",
        "\n",
        "# scale images as preprocessing\n",
        "test_img = test_img.reshape(4,28*28)\n",
        "test_img = test_img.astype('float32')/255\n",
        "\n",
        "# feed image to the best model\n",
        "# dropoutNN = nn5\n",
        "res = np.zeros_like(nn5.predict(test_img))\n",
        "res[np.arange(len(res)), res.argmax(1)] = 1\n",
        "print(res)\n",
        "# print(classification_report(test_label, res))\n"
      ],
      "execution_count": null,
      "outputs": [
        {
          "output_type": "stream",
          "text": [
            "[[1. 0. 0. 0. 0. 0. 0. 0. 0. 0.]\n",
            " [1. 0. 0. 0. 0. 0. 0. 0. 0. 0.]\n",
            " [1. 0. 0. 0. 0. 0. 0. 0. 0. 0.]\n",
            " [1. 0. 0. 0. 0. 0. 0. 0. 0. 0.]]\n"
          ],
          "name": "stdout"
        }
      ]
    },
    {
      "cell_type": "markdown",
      "metadata": {
        "colab_type": "text",
        "id": "6hNnUrWobFQ8"
      },
      "source": [
        "### Challenges: Play with initializer\n",
        "\n",
        "- Create two-layer neural network with any hyperparameter\n",
        "- Use or create an weight initializer function that initialize all the weight to one. See: https://keras.io/initializers/\n",
        "- Discuss the result. what happen? and why?"
      ]
    },
    {
      "cell_type": "code",
      "metadata": {
        "colab_type": "code",
        "id": "gSmsvxYAbFQ9",
        "colab": {}
      },
      "source": [
        "chall_nn = models.Sequential()\n",
        "units = 512\n",
        "chall_nn.add(layers.Dense(units, activation= 'relu', kernel_initializer=initializers.Ones(), bias_initializer=initializers.Ones(), input_shape=(28*28,)))\n",
        "chall_nn.add(layers.Dense(10, activation= 'softmax', kernel_initializer=initializers.Ones(), bias_initializer=initializers.Ones()))"
      ],
      "execution_count": null,
      "outputs": []
    },
    {
      "cell_type": "code",
      "metadata": {
        "id": "fX6IOZJjbDRn",
        "colab_type": "code",
        "colab": {}
      },
      "source": [
        "chall_nn.compile(optimizer='adam', loss='categorical_crossentropy', metrics=['accuracy'])"
      ],
      "execution_count": null,
      "outputs": []
    },
    {
      "cell_type": "code",
      "metadata": {
        "id": "GMrFbVnIbOpW",
        "colab_type": "code",
        "colab": {
          "base_uri": "https://localhost:8080/",
          "height": 1000
        },
        "outputId": "eb5cc3ec-ac6d-4f59-b4f0-1d6e132a94e7"
      },
      "source": [
        "chall_history = chall_nn.fit(image_train, label_train, epochs=50, batch_size=128, validation_data=(image_validation, label_validation))"
      ],
      "execution_count": null,
      "outputs": [
        {
          "output_type": "stream",
          "text": [
            "Epoch 1/50\n",
            "422/422 [==============================] - 3s 8ms/step - loss: 22.6741 - accuracy: 0.0994 - val_loss: 11.6670 - val_accuracy: 0.0980\n",
            "Epoch 2/50\n",
            "422/422 [==============================] - 3s 7ms/step - loss: 7.8718 - accuracy: 0.1009 - val_loss: 3.9442 - val_accuracy: 0.0998\n",
            "Epoch 3/50\n",
            "422/422 [==============================] - 3s 7ms/step - loss: 3.2903 - accuracy: 0.1025 - val_loss: 3.2197 - val_accuracy: 0.1227\n",
            "Epoch 4/50\n",
            "422/422 [==============================] - 3s 7ms/step - loss: 2.6194 - accuracy: 0.1479 - val_loss: 2.2310 - val_accuracy: 0.1800\n",
            "Epoch 5/50\n",
            "422/422 [==============================] - 3s 7ms/step - loss: 2.0352 - accuracy: 0.2511 - val_loss: 2.0807 - val_accuracy: 0.2793\n",
            "Epoch 6/50\n",
            "422/422 [==============================] - 3s 7ms/step - loss: 1.8484 - accuracy: 0.2959 - val_loss: 1.6322 - val_accuracy: 0.3635\n",
            "Epoch 7/50\n",
            "422/422 [==============================] - 3s 7ms/step - loss: 1.7037 - accuracy: 0.3428 - val_loss: 1.5724 - val_accuracy: 0.4228\n",
            "Epoch 8/50\n",
            "422/422 [==============================] - 3s 7ms/step - loss: 1.5958 - accuracy: 0.4035 - val_loss: 1.5536 - val_accuracy: 0.4215\n",
            "Epoch 9/50\n",
            "422/422 [==============================] - 3s 8ms/step - loss: 1.4786 - accuracy: 0.4569 - val_loss: 1.3930 - val_accuracy: 0.4778\n",
            "Epoch 10/50\n",
            "422/422 [==============================] - 3s 8ms/step - loss: 1.3878 - accuracy: 0.4966 - val_loss: 1.3371 - val_accuracy: 0.5062\n",
            "Epoch 11/50\n",
            "422/422 [==============================] - 3s 7ms/step - loss: 1.3103 - accuracy: 0.5258 - val_loss: 1.2616 - val_accuracy: 0.5465\n",
            "Epoch 12/50\n",
            "422/422 [==============================] - 3s 7ms/step - loss: 1.2479 - accuracy: 0.5520 - val_loss: 1.2256 - val_accuracy: 0.5542\n",
            "Epoch 13/50\n",
            "422/422 [==============================] - 3s 7ms/step - loss: 1.2139 - accuracy: 0.5608 - val_loss: 1.1900 - val_accuracy: 0.5790\n",
            "Epoch 14/50\n",
            "422/422 [==============================] - 3s 7ms/step - loss: 1.1899 - accuracy: 0.5679 - val_loss: 1.1880 - val_accuracy: 0.5512\n",
            "Epoch 15/50\n",
            "422/422 [==============================] - 3s 7ms/step - loss: 1.1676 - accuracy: 0.5765 - val_loss: 1.1572 - val_accuracy: 0.5700\n",
            "Epoch 16/50\n",
            "422/422 [==============================] - 3s 8ms/step - loss: 1.1567 - accuracy: 0.5807 - val_loss: 1.1460 - val_accuracy: 0.5892\n",
            "Epoch 17/50\n",
            "422/422 [==============================] - 3s 8ms/step - loss: 1.1415 - accuracy: 0.5860 - val_loss: 1.1383 - val_accuracy: 0.5640\n",
            "Epoch 18/50\n",
            "422/422 [==============================] - 3s 7ms/step - loss: 1.1341 - accuracy: 0.5883 - val_loss: 1.1819 - val_accuracy: 0.5682\n",
            "Epoch 19/50\n",
            "422/422 [==============================] - 3s 7ms/step - loss: 1.1272 - accuracy: 0.5945 - val_loss: 1.1143 - val_accuracy: 0.5972\n",
            "Epoch 20/50\n",
            "422/422 [==============================] - 3s 7ms/step - loss: 1.1193 - accuracy: 0.5953 - val_loss: 1.1031 - val_accuracy: 0.6225\n",
            "Epoch 21/50\n",
            "422/422 [==============================] - 3s 7ms/step - loss: 1.1110 - accuracy: 0.5991 - val_loss: 1.0993 - val_accuracy: 0.6108\n",
            "Epoch 22/50\n",
            "422/422 [==============================] - 3s 7ms/step - loss: 1.1090 - accuracy: 0.5998 - val_loss: 1.1035 - val_accuracy: 0.6202\n",
            "Epoch 23/50\n",
            "422/422 [==============================] - 3s 7ms/step - loss: 1.1065 - accuracy: 0.6002 - val_loss: 1.1010 - val_accuracy: 0.6207\n",
            "Epoch 24/50\n",
            "422/422 [==============================] - 3s 8ms/step - loss: 1.1010 - accuracy: 0.6026 - val_loss: 1.0820 - val_accuracy: 0.6155\n",
            "Epoch 25/50\n",
            "422/422 [==============================] - 3s 8ms/step - loss: 1.0973 - accuracy: 0.6044 - val_loss: 1.0788 - val_accuracy: 0.6305\n",
            "Epoch 26/50\n",
            "422/422 [==============================] - 3s 7ms/step - loss: 1.0940 - accuracy: 0.6059 - val_loss: 1.0777 - val_accuracy: 0.6282\n",
            "Epoch 27/50\n",
            "422/422 [==============================] - 3s 8ms/step - loss: 1.0913 - accuracy: 0.6067 - val_loss: 1.0882 - val_accuracy: 0.6122\n",
            "Epoch 28/50\n",
            "422/422 [==============================] - 3s 8ms/step - loss: 1.0914 - accuracy: 0.6063 - val_loss: 1.0863 - val_accuracy: 0.6185\n",
            "Epoch 29/50\n",
            "422/422 [==============================] - 3s 8ms/step - loss: 1.0831 - accuracy: 0.6103 - val_loss: 1.0729 - val_accuracy: 0.6118\n",
            "Epoch 30/50\n",
            "422/422 [==============================] - 3s 7ms/step - loss: 1.0862 - accuracy: 0.6070 - val_loss: 1.0892 - val_accuracy: 0.6032\n",
            "Epoch 31/50\n",
            "422/422 [==============================] - 3s 7ms/step - loss: 1.0799 - accuracy: 0.6097 - val_loss: 1.0754 - val_accuracy: 0.6292\n",
            "Epoch 32/50\n",
            "422/422 [==============================] - 3s 8ms/step - loss: 1.0821 - accuracy: 0.6106 - val_loss: 1.0931 - val_accuracy: 0.6077\n",
            "Epoch 33/50\n",
            "422/422 [==============================] - 3s 8ms/step - loss: 1.0749 - accuracy: 0.6149 - val_loss: 1.0537 - val_accuracy: 0.6273\n",
            "Epoch 34/50\n",
            "422/422 [==============================] - 3s 8ms/step - loss: 1.0778 - accuracy: 0.6117 - val_loss: 1.0780 - val_accuracy: 0.6028\n",
            "Epoch 35/50\n",
            "422/422 [==============================] - 3s 8ms/step - loss: 1.0749 - accuracy: 0.6124 - val_loss: 1.0951 - val_accuracy: 0.5935\n",
            "Epoch 36/50\n",
            "422/422 [==============================] - 3s 7ms/step - loss: 1.0751 - accuracy: 0.6114 - val_loss: 1.0723 - val_accuracy: 0.6262\n",
            "Epoch 37/50\n",
            "422/422 [==============================] - 3s 7ms/step - loss: 1.0748 - accuracy: 0.6124 - val_loss: 1.0795 - val_accuracy: 0.6125\n",
            "Epoch 38/50\n",
            "422/422 [==============================] - 3s 7ms/step - loss: 1.0707 - accuracy: 0.6153 - val_loss: 1.0478 - val_accuracy: 0.6237\n",
            "Epoch 39/50\n",
            "422/422 [==============================] - 3s 7ms/step - loss: 1.0679 - accuracy: 0.6146 - val_loss: 1.0501 - val_accuracy: 0.6303\n",
            "Epoch 40/50\n",
            "422/422 [==============================] - 3s 7ms/step - loss: 1.0705 - accuracy: 0.6124 - val_loss: 1.0450 - val_accuracy: 0.6315\n",
            "Epoch 41/50\n",
            "422/422 [==============================] - 3s 7ms/step - loss: 1.0678 - accuracy: 0.6142 - val_loss: 1.0374 - val_accuracy: 0.6362\n",
            "Epoch 42/50\n",
            "422/422 [==============================] - 3s 7ms/step - loss: 1.0613 - accuracy: 0.6151 - val_loss: 1.0457 - val_accuracy: 0.6130\n",
            "Epoch 43/50\n",
            "422/422 [==============================] - 3s 7ms/step - loss: 1.0610 - accuracy: 0.6155 - val_loss: 1.0466 - val_accuracy: 0.6225\n",
            "Epoch 44/50\n",
            "422/422 [==============================] - 3s 7ms/step - loss: 1.0615 - accuracy: 0.6177 - val_loss: 1.0462 - val_accuracy: 0.6128\n",
            "Epoch 45/50\n",
            "422/422 [==============================] - 3s 7ms/step - loss: 1.0568 - accuracy: 0.6169 - val_loss: 1.0472 - val_accuracy: 0.6090\n",
            "Epoch 46/50\n",
            "422/422 [==============================] - 3s 7ms/step - loss: 1.0547 - accuracy: 0.6174 - val_loss: 1.0456 - val_accuracy: 0.6305\n",
            "Epoch 47/50\n",
            "422/422 [==============================] - 3s 7ms/step - loss: 1.0576 - accuracy: 0.6157 - val_loss: 1.0286 - val_accuracy: 0.6325\n",
            "Epoch 48/50\n",
            "422/422 [==============================] - 3s 7ms/step - loss: 1.0552 - accuracy: 0.6156 - val_loss: 1.0543 - val_accuracy: 0.6155\n",
            "Epoch 49/50\n",
            "422/422 [==============================] - 3s 7ms/step - loss: 1.0468 - accuracy: 0.6209 - val_loss: 1.0238 - val_accuracy: 0.6337\n",
            "Epoch 50/50\n",
            "422/422 [==============================] - 3s 7ms/step - loss: 1.0465 - accuracy: 0.6205 - val_loss: 1.0160 - val_accuracy: 0.6340\n"
          ],
          "name": "stdout"
        }
      ]
    },
    {
      "cell_type": "code",
      "metadata": {
        "id": "Gn0rPTcJXHRp",
        "colab_type": "code",
        "colab": {
          "base_uri": "https://localhost:8080/",
          "height": 221
        },
        "outputId": "86b69419-f083-4a6d-ca14-ad512c08d1ba"
      },
      "source": [
        "chall_nn.summary()"
      ],
      "execution_count": null,
      "outputs": [
        {
          "output_type": "stream",
          "text": [
            "Model: \"sequential_9\"\n",
            "_________________________________________________________________\n",
            "Layer (type)                 Output Shape              Param #   \n",
            "=================================================================\n",
            "dense_20 (Dense)             (None, 512)               401920    \n",
            "_________________________________________________________________\n",
            "dense_21 (Dense)             (None, 10)                5130      \n",
            "=================================================================\n",
            "Total params: 407,050\n",
            "Trainable params: 407,050\n",
            "Non-trainable params: 0\n",
            "_________________________________________________________________\n"
          ],
          "name": "stdout"
        }
      ]
    },
    {
      "cell_type": "code",
      "metadata": {
        "id": "0t0QWSYYf-xP",
        "colab_type": "code",
        "colab": {
          "base_uri": "https://localhost:8080/",
          "height": 68
        },
        "outputId": "0ab2fdcd-e39d-419c-904f-4e698391ecc1"
      },
      "source": [
        "### Evaluate the model ###\n",
        "chall_loss, chall_acc = chall_nn.evaluate(test_images, test_labels)\n",
        "print('Test Loss: %s\\nTest Accuracy: %s' % (chall_loss,chall_acc))\n",
        "##########################"
      ],
      "execution_count": null,
      "outputs": [
        {
          "output_type": "stream",
          "text": [
            "313/313 [==============================] - 1s 2ms/step - loss: 1.0518 - accuracy: 0.6294\n",
            "Test Loss: 1.0517847537994385\n",
            "Test Accuracy: 0.6294000148773193\n"
          ],
          "name": "stdout"
        }
      ]
    },
    {
      "cell_type": "code",
      "metadata": {
        "id": "AAHJw1Vif0pW",
        "colab_type": "code",
        "colab": {
          "base_uri": "https://localhost:8080/",
          "height": 279
        },
        "outputId": "8b740b7a-992b-4520-851f-c630022d8779"
      },
      "source": [
        "epoch = len(chall_history.history['loss'])\n",
        "line1, = plt.plot(range(1,epoch+1), chall_history.history['loss'], label=\"traning data\")\n",
        "line2, = plt.plot(range(1,epoch+1), chall_history.history['val_loss'], label=\"validation data\")\n",
        "plt.legend(handles=[line1,line2])\n",
        "plt.xlabel('epochs')\n",
        "plt.ylabel('errors')\n",
        "plt.show()"
      ],
      "execution_count": null,
      "outputs": [
        {
          "output_type": "display_data",
          "data": {
            "image/png": "[encoded data removed]",
            "text/plain": [
              "<Figure size 432x288 with 1 Axes>"
            ]
          },
          "metadata": {
            "tags": [],
            "needs_background": "light"
          }
        }
      ]
    },
    {
      "cell_type": "markdown",
      "metadata": {
        "id": "pqpjktHseDAo",
        "colab_type": "text"
      },
      "source": [
        "**Challenge discussion**  <br>\n",
        "As the above experiment, we notice that after we change the weight and bias initializer methods to all one, the accuracies of each layers start at very low values and the training and validation errors is converge."
      ]
    }
  ]
}